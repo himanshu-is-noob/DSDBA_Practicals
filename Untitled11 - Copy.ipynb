{
 "cells": [
  {
   "cell_type": "code",
   "execution_count": 1,
   "id": "6c93c7b1-4305-43bf-936b-b6cb2765cb6d",
   "metadata": {
    "tags": []
   },
   "outputs": [],
   "source": [
    "#Text Analysis "
   ]
  },
  {
   "cell_type": "code",
   "execution_count": 3,
   "id": "083c564d-3ef3-4e88-ae11-9720945011fd",
   "metadata": {
    "tags": []
   },
   "outputs": [],
   "source": [
    "import nltk \n",
    "import string\n",
    "from nltk.corpus import stopwords \n",
    "from nltk.stem import WordNetLemmatizer , PorterStemmer\n",
    "from nltk.tokenize import word_tokenize\n",
    "from nltk import pos_tag "
   ]
  },
  {
   "cell_type": "code",
   "execution_count": 5,
   "id": "dc0aa92c-a560-4575-9734-b3f55654464a",
   "metadata": {
    "tags": []
   },
   "outputs": [],
   "source": [
    "para = 'Web cookies are small text files stored on a users device (like a computer or phone) by websites they visit. Theyre used to remember information about the user, like their preferences or login details, so websites can personalize the users experience. Cookies can also be used to track user activity on a website for analytics or advertising purposes'"
   ]
  },
  {
   "cell_type": "code",
   "execution_count": 7,
   "id": "0c4ec0ed-5898-454b-afd1-4af70bcb890f",
   "metadata": {
    "tags": []
   },
   "outputs": [
    {
     "data": {
      "text/plain": [
       "['Web',\n",
       " 'cookies',\n",
       " 'are',\n",
       " 'small',\n",
       " 'text',\n",
       " 'files',\n",
       " 'stored',\n",
       " 'on',\n",
       " 'a',\n",
       " 'users',\n",
       " 'device',\n",
       " '(',\n",
       " 'like',\n",
       " 'a',\n",
       " 'computer',\n",
       " 'or',\n",
       " 'phone',\n",
       " ')',\n",
       " 'by',\n",
       " 'websites',\n",
       " 'they',\n",
       " 'visit',\n",
       " '.',\n",
       " 'Theyre',\n",
       " 'used',\n",
       " 'to',\n",
       " 'remember',\n",
       " 'information',\n",
       " 'about',\n",
       " 'the',\n",
       " 'user',\n",
       " ',',\n",
       " 'like',\n",
       " 'their',\n",
       " 'preferences',\n",
       " 'or',\n",
       " 'login',\n",
       " 'details',\n",
       " ',',\n",
       " 'so',\n",
       " 'websites',\n",
       " 'can',\n",
       " 'personalize',\n",
       " 'the',\n",
       " 'users',\n",
       " 'experience',\n",
       " '.',\n",
       " 'Cookies',\n",
       " 'can',\n",
       " 'also',\n",
       " 'be',\n",
       " 'used',\n",
       " 'to',\n",
       " 'track',\n",
       " 'user',\n",
       " 'activity',\n",
       " 'on',\n",
       " 'a',\n",
       " 'website',\n",
       " 'for',\n",
       " 'analytics',\n",
       " 'or',\n",
       " 'advertising',\n",
       " 'purposes']"
      ]
     },
     "execution_count": 7,
     "metadata": {},
     "output_type": "execute_result"
    }
   ],
   "source": [
    "words = word_tokenize(para)\n",
    "words"
   ]
  },
  {
   "cell_type": "code",
   "execution_count": 8,
   "id": "fdc3d80e-33b9-40b5-b6e1-22d2c007e5ae",
   "metadata": {
    "tags": []
   },
   "outputs": [
    {
     "data": {
      "text/plain": [
       "'!\"#$%&\\'()*+,-./:;<=>?@[\\\\]^_`{|}~'"
      ]
     },
     "execution_count": 8,
     "metadata": {},
     "output_type": "execute_result"
    }
   ],
   "source": [
    "string.punctuation"
   ]
  },
  {
   "cell_type": "code",
   "execution_count": 9,
   "id": "adea3270-6f2d-436a-b25f-2da810fca6a6",
   "metadata": {
    "tags": []
   },
   "outputs": [],
   "source": [
    "words = [word for word in words if word not in string.punctuation]"
   ]
  },
  {
   "cell_type": "code",
   "execution_count": 10,
   "id": "8cdfc712-8ce3-4ee1-8150-efccf948db56",
   "metadata": {
    "tags": []
   },
   "outputs": [
    {
     "data": {
      "text/plain": [
       "['Web',\n",
       " 'cookies',\n",
       " 'are',\n",
       " 'small',\n",
       " 'text',\n",
       " 'files',\n",
       " 'stored',\n",
       " 'on',\n",
       " 'a',\n",
       " 'users',\n",
       " 'device',\n",
       " 'like',\n",
       " 'a',\n",
       " 'computer',\n",
       " 'or',\n",
       " 'phone',\n",
       " 'by',\n",
       " 'websites',\n",
       " 'they',\n",
       " 'visit',\n",
       " 'Theyre',\n",
       " 'used',\n",
       " 'to',\n",
       " 'remember',\n",
       " 'information',\n",
       " 'about',\n",
       " 'the',\n",
       " 'user',\n",
       " 'like',\n",
       " 'their',\n",
       " 'preferences',\n",
       " 'or',\n",
       " 'login',\n",
       " 'details',\n",
       " 'so',\n",
       " 'websites',\n",
       " 'can',\n",
       " 'personalize',\n",
       " 'the',\n",
       " 'users',\n",
       " 'experience',\n",
       " 'Cookies',\n",
       " 'can',\n",
       " 'also',\n",
       " 'be',\n",
       " 'used',\n",
       " 'to',\n",
       " 'track',\n",
       " 'user',\n",
       " 'activity',\n",
       " 'on',\n",
       " 'a',\n",
       " 'website',\n",
       " 'for',\n",
       " 'analytics',\n",
       " 'or',\n",
       " 'advertising',\n",
       " 'purposes']"
      ]
     },
     "execution_count": 10,
     "metadata": {},
     "output_type": "execute_result"
    }
   ],
   "source": [
    "words"
   ]
  },
  {
   "cell_type": "code",
   "execution_count": 11,
   "id": "7c48d102-ecce-40c0-807a-3d451a002799",
   "metadata": {
    "tags": []
   },
   "outputs": [],
   "source": [
    "#Now LETS remove stopwords"
   ]
  },
  {
   "cell_type": "code",
   "execution_count": 12,
   "id": "f2ac8a16-f540-49c1-8c0b-e8953a7ef85a",
   "metadata": {
    "tags": []
   },
   "outputs": [],
   "source": [
    "swords = stopwords.words('english')"
   ]
  },
  {
   "cell_type": "code",
   "execution_count": 13,
   "id": "dd0d9abe-1863-487f-af73-58e7e4bce026",
   "metadata": {
    "tags": []
   },
   "outputs": [
    {
     "data": {
      "text/plain": [
       "['a',\n",
       " 'about',\n",
       " 'above',\n",
       " 'after',\n",
       " 'again',\n",
       " 'against',\n",
       " 'ain',\n",
       " 'all',\n",
       " 'am',\n",
       " 'an',\n",
       " 'and',\n",
       " 'any',\n",
       " 'are',\n",
       " 'aren',\n",
       " \"aren't\",\n",
       " 'as',\n",
       " 'at',\n",
       " 'be',\n",
       " 'because',\n",
       " 'been',\n",
       " 'before',\n",
       " 'being',\n",
       " 'below',\n",
       " 'between',\n",
       " 'both',\n",
       " 'but',\n",
       " 'by',\n",
       " 'can',\n",
       " 'couldn',\n",
       " \"couldn't\",\n",
       " 'd',\n",
       " 'did',\n",
       " 'didn',\n",
       " \"didn't\",\n",
       " 'do',\n",
       " 'does',\n",
       " 'doesn',\n",
       " \"doesn't\",\n",
       " 'doing',\n",
       " 'don',\n",
       " \"don't\",\n",
       " 'down',\n",
       " 'during',\n",
       " 'each',\n",
       " 'few',\n",
       " 'for',\n",
       " 'from',\n",
       " 'further',\n",
       " 'had',\n",
       " 'hadn',\n",
       " \"hadn't\",\n",
       " 'has',\n",
       " 'hasn',\n",
       " \"hasn't\",\n",
       " 'have',\n",
       " 'haven',\n",
       " \"haven't\",\n",
       " 'having',\n",
       " 'he',\n",
       " \"he'd\",\n",
       " \"he'll\",\n",
       " 'her',\n",
       " 'here',\n",
       " 'hers',\n",
       " 'herself',\n",
       " \"he's\",\n",
       " 'him',\n",
       " 'himself',\n",
       " 'his',\n",
       " 'how',\n",
       " 'i',\n",
       " \"i'd\",\n",
       " 'if',\n",
       " \"i'll\",\n",
       " \"i'm\",\n",
       " 'in',\n",
       " 'into',\n",
       " 'is',\n",
       " 'isn',\n",
       " \"isn't\",\n",
       " 'it',\n",
       " \"it'd\",\n",
       " \"it'll\",\n",
       " \"it's\",\n",
       " 'its',\n",
       " 'itself',\n",
       " \"i've\",\n",
       " 'just',\n",
       " 'll',\n",
       " 'm',\n",
       " 'ma',\n",
       " 'me',\n",
       " 'mightn',\n",
       " \"mightn't\",\n",
       " 'more',\n",
       " 'most',\n",
       " 'mustn',\n",
       " \"mustn't\",\n",
       " 'my',\n",
       " 'myself',\n",
       " 'needn',\n",
       " \"needn't\",\n",
       " 'no',\n",
       " 'nor',\n",
       " 'not',\n",
       " 'now',\n",
       " 'o',\n",
       " 'of',\n",
       " 'off',\n",
       " 'on',\n",
       " 'once',\n",
       " 'only',\n",
       " 'or',\n",
       " 'other',\n",
       " 'our',\n",
       " 'ours',\n",
       " 'ourselves',\n",
       " 'out',\n",
       " 'over',\n",
       " 'own',\n",
       " 're',\n",
       " 's',\n",
       " 'same',\n",
       " 'shan',\n",
       " \"shan't\",\n",
       " 'she',\n",
       " \"she'd\",\n",
       " \"she'll\",\n",
       " \"she's\",\n",
       " 'should',\n",
       " 'shouldn',\n",
       " \"shouldn't\",\n",
       " \"should've\",\n",
       " 'so',\n",
       " 'some',\n",
       " 'such',\n",
       " 't',\n",
       " 'than',\n",
       " 'that',\n",
       " \"that'll\",\n",
       " 'the',\n",
       " 'their',\n",
       " 'theirs',\n",
       " 'them',\n",
       " 'themselves',\n",
       " 'then',\n",
       " 'there',\n",
       " 'these',\n",
       " 'they',\n",
       " \"they'd\",\n",
       " \"they'll\",\n",
       " \"they're\",\n",
       " \"they've\",\n",
       " 'this',\n",
       " 'those',\n",
       " 'through',\n",
       " 'to',\n",
       " 'too',\n",
       " 'under',\n",
       " 'until',\n",
       " 'up',\n",
       " 've',\n",
       " 'very',\n",
       " 'was',\n",
       " 'wasn',\n",
       " \"wasn't\",\n",
       " 'we',\n",
       " \"we'd\",\n",
       " \"we'll\",\n",
       " \"we're\",\n",
       " 'were',\n",
       " 'weren',\n",
       " \"weren't\",\n",
       " \"we've\",\n",
       " 'what',\n",
       " 'when',\n",
       " 'where',\n",
       " 'which',\n",
       " 'while',\n",
       " 'who',\n",
       " 'whom',\n",
       " 'why',\n",
       " 'will',\n",
       " 'with',\n",
       " 'won',\n",
       " \"won't\",\n",
       " 'wouldn',\n",
       " \"wouldn't\",\n",
       " 'y',\n",
       " 'you',\n",
       " \"you'd\",\n",
       " \"you'll\",\n",
       " 'your',\n",
       " \"you're\",\n",
       " 'yours',\n",
       " 'yourself',\n",
       " 'yourselves',\n",
       " \"you've\"]"
      ]
     },
     "execution_count": 13,
     "metadata": {},
     "output_type": "execute_result"
    }
   ],
   "source": [
    "swords"
   ]
  },
  {
   "cell_type": "code",
   "execution_count": 14,
   "id": "05208f89-a9b5-4c0b-8f47-36fcd6d1d744",
   "metadata": {
    "tags": []
   },
   "outputs": [],
   "source": [
    "words = [word for word in words if word.lower() not in swords]"
   ]
  },
  {
   "cell_type": "code",
   "execution_count": 15,
   "id": "f8ed7789-04fb-482a-a024-ce5b32e1dea1",
   "metadata": {
    "tags": []
   },
   "outputs": [
    {
     "data": {
      "text/plain": [
       "['Web',\n",
       " 'cookies',\n",
       " 'small',\n",
       " 'text',\n",
       " 'files',\n",
       " 'stored',\n",
       " 'users',\n",
       " 'device',\n",
       " 'like',\n",
       " 'computer',\n",
       " 'phone',\n",
       " 'websites',\n",
       " 'visit',\n",
       " 'Theyre',\n",
       " 'used',\n",
       " 'remember',\n",
       " 'information',\n",
       " 'user',\n",
       " 'like',\n",
       " 'preferences',\n",
       " 'login',\n",
       " 'details',\n",
       " 'websites',\n",
       " 'personalize',\n",
       " 'users',\n",
       " 'experience',\n",
       " 'Cookies',\n",
       " 'also',\n",
       " 'used',\n",
       " 'track',\n",
       " 'user',\n",
       " 'activity',\n",
       " 'website',\n",
       " 'analytics',\n",
       " 'advertising',\n",
       " 'purposes']"
      ]
     },
     "execution_count": 15,
     "metadata": {},
     "output_type": "execute_result"
    }
   ],
   "source": [
    "words"
   ]
  },
  {
   "cell_type": "code",
   "execution_count": 16,
   "id": "5ae5096b-361f-43b9-9d3c-56984a48334d",
   "metadata": {
    "tags": []
   },
   "outputs": [],
   "source": [
    "#Now we have Tokenized it , Rmoved Punctuation , Removed Stopwords now we need to Stem and Lemmatize it "
   ]
  },
  {
   "cell_type": "code",
   "execution_count": 17,
   "id": "0a6231ce-57d6-4ca2-baaa-aa44d2c235b6",
   "metadata": {
    "tags": []
   },
   "outputs": [],
   "source": [
    "ps = PorterStemmer()"
   ]
  },
  {
   "cell_type": "code",
   "execution_count": 18,
   "id": "fa174fae-264d-40d5-9d94-a34a59145cf9",
   "metadata": {
    "tags": []
   },
   "outputs": [],
   "source": [
    "stem_arr = []\n",
    "for word in words : \n",
    "    x = ps.stem(word)\n",
    "    stem_arr.append(x)"
   ]
  },
  {
   "cell_type": "code",
   "execution_count": 19,
   "id": "66a1bfb1-4131-4617-9a4f-8679a95e8887",
   "metadata": {
    "tags": []
   },
   "outputs": [
    {
     "data": {
      "text/plain": [
       "['web',\n",
       " 'cooki',\n",
       " 'small',\n",
       " 'text',\n",
       " 'file',\n",
       " 'store',\n",
       " 'user',\n",
       " 'devic',\n",
       " 'like',\n",
       " 'comput',\n",
       " 'phone',\n",
       " 'websit',\n",
       " 'visit',\n",
       " 'theyr',\n",
       " 'use',\n",
       " 'rememb',\n",
       " 'inform',\n",
       " 'user',\n",
       " 'like',\n",
       " 'prefer',\n",
       " 'login',\n",
       " 'detail',\n",
       " 'websit',\n",
       " 'person',\n",
       " 'user',\n",
       " 'experi',\n",
       " 'cooki',\n",
       " 'also',\n",
       " 'use',\n",
       " 'track',\n",
       " 'user',\n",
       " 'activ',\n",
       " 'websit',\n",
       " 'analyt',\n",
       " 'advertis',\n",
       " 'purpos']"
      ]
     },
     "execution_count": 19,
     "metadata": {},
     "output_type": "execute_result"
    }
   ],
   "source": [
    "stem_arr"
   ]
  },
  {
   "cell_type": "code",
   "execution_count": 21,
   "id": "3e83a600-1b11-472e-ae2c-2efed20d64d3",
   "metadata": {
    "tags": []
   },
   "outputs": [],
   "source": [
    "wnl = WordNetLemmatizer()"
   ]
  },
  {
   "cell_type": "code",
   "execution_count": 22,
   "id": "41cf665d-419e-4f6d-86b8-85e2259dc6e3",
   "metadata": {
    "tags": []
   },
   "outputs": [],
   "source": [
    "lemma_arr = [] \n",
    "\n",
    "for word in words : \n",
    "    x = wnl.lemmatize(word)\n",
    "    lemma_arr.append(x)"
   ]
  },
  {
   "cell_type": "code",
   "execution_count": 23,
   "id": "eecd1211-a512-432c-a551-cec10462669a",
   "metadata": {
    "tags": []
   },
   "outputs": [
    {
     "data": {
      "text/plain": [
       "['Web',\n",
       " 'cooky',\n",
       " 'small',\n",
       " 'text',\n",
       " 'file',\n",
       " 'stored',\n",
       " 'user',\n",
       " 'device',\n",
       " 'like',\n",
       " 'computer',\n",
       " 'phone',\n",
       " 'website',\n",
       " 'visit',\n",
       " 'Theyre',\n",
       " 'used',\n",
       " 'remember',\n",
       " 'information',\n",
       " 'user',\n",
       " 'like',\n",
       " 'preference',\n",
       " 'login',\n",
       " 'detail',\n",
       " 'website',\n",
       " 'personalize',\n",
       " 'user',\n",
       " 'experience',\n",
       " 'Cookies',\n",
       " 'also',\n",
       " 'used',\n",
       " 'track',\n",
       " 'user',\n",
       " 'activity',\n",
       " 'website',\n",
       " 'analytics',\n",
       " 'advertising',\n",
       " 'purpose']"
      ]
     },
     "execution_count": 23,
     "metadata": {},
     "output_type": "execute_result"
    }
   ],
   "source": [
    "lemma_arr"
   ]
  },
  {
   "cell_type": "code",
   "execution_count": 24,
   "id": "a0088597-fe73-4a7c-a7fc-336f0a754a9e",
   "metadata": {
    "tags": []
   },
   "outputs": [],
   "source": [
    "# Now we have lemmatize it Now we need to put POS tag "
   ]
  },
  {
   "cell_type": "code",
   "execution_count": 25,
   "id": "74ea3b04-7e2f-466b-9a29-dc38c2b3c93d",
   "metadata": {
    "tags": []
   },
   "outputs": [],
   "source": [
    "from nltk import pos_tag"
   ]
  },
  {
   "cell_type": "code",
   "execution_count": 26,
   "id": "66308fba-14ee-4839-91cc-0aa8e12a1093",
   "metadata": {
    "tags": []
   },
   "outputs": [
    {
     "data": {
      "text/plain": [
       "[('Web', 'NNP'),\n",
       " ('cookies', 'NNS'),\n",
       " ('small', 'JJ'),\n",
       " ('text', 'JJ'),\n",
       " ('files', 'NNS'),\n",
       " ('stored', 'VBD'),\n",
       " ('users', 'NNS'),\n",
       " ('device', 'VBP'),\n",
       " ('like', 'IN'),\n",
       " ('computer', 'NN'),\n",
       " ('phone', 'NN'),\n",
       " ('websites', 'NNS'),\n",
       " ('visit', 'VBP'),\n",
       " ('Theyre', 'NNP'),\n",
       " ('used', 'VBD'),\n",
       " ('remember', 'VB'),\n",
       " ('information', 'NN'),\n",
       " ('user', 'IN'),\n",
       " ('like', 'IN'),\n",
       " ('preferences', 'NNS'),\n",
       " ('login', 'VBP'),\n",
       " ('details', 'NNS'),\n",
       " ('websites', 'NNS'),\n",
       " ('personalize', 'VBP'),\n",
       " ('users', 'NNS'),\n",
       " ('experience', 'NN'),\n",
       " ('Cookies', 'NNP'),\n",
       " ('also', 'RB'),\n",
       " ('used', 'VBD'),\n",
       " ('track', 'RP'),\n",
       " ('user', 'JJ'),\n",
       " ('activity', 'NN'),\n",
       " ('website', 'VBP'),\n",
       " ('analytics', 'NNS'),\n",
       " ('advertising', 'NN'),\n",
       " ('purposes', 'NNS')]"
      ]
     },
     "execution_count": 26,
     "metadata": {},
     "output_type": "execute_result"
    }
   ],
   "source": [
    "pos_tag(words)"
   ]
  },
  {
   "cell_type": "code",
   "execution_count": 27,
   "id": "4e3b13e4-fd28-46fe-85d3-9c704b54dd9e",
   "metadata": {
    "tags": []
   },
   "outputs": [],
   "source": [
    "# Now we have POS tagged tokens also "
   ]
  },
  {
   "cell_type": "code",
   "execution_count": 29,
   "id": "0f60c9dd-0d6e-41d7-8188-fabc91d03ea4",
   "metadata": {
    "tags": []
   },
   "outputs": [],
   "source": [
    "# 1. We did Tokenization \n",
    "# 2. We removed Punctuations \n",
    "# 3. We removed Stopwords \n",
    "# 4. We did Stemming \n",
    "# 5. We did Lemmatization \n",
    "# 6. We did Pos_Tagging"
   ]
  },
  {
   "cell_type": "code",
   "execution_count": 32,
   "id": "fc30ffe6-c024-4fed-9817-af0981e0b640",
   "metadata": {
    "tags": []
   },
   "outputs": [],
   "source": [
    "from sklearn.feature_extraction.text import TfidfVectorizer\n"
   ]
  },
  {
   "cell_type": "code",
   "execution_count": 33,
   "id": "b747e924-b6a6-4941-acc3-0eef791bb49b",
   "metadata": {
    "tags": []
   },
   "outputs": [],
   "source": [
    "\n",
    "document = [para]\n",
    "\n",
    "tfidf = TfidfVectorizer()\n"
   ]
  },
  {
   "cell_type": "code",
   "execution_count": 35,
   "id": "fde86386-c54a-47ef-acdc-7518690da620",
   "metadata": {
    "tags": []
   },
   "outputs": [],
   "source": [
    "tfidf_matrix = tfidf.fit_transform(document)"
   ]
  },
  {
   "cell_type": "code",
   "execution_count": 36,
   "id": "8e6ce167-2a56-4083-8680-d9f266c561c3",
   "metadata": {
    "tags": []
   },
   "outputs": [
    {
     "data": {
      "text/plain": [
       "<1x43 sparse matrix of type '<class 'numpy.float64'>'\n",
       "\twith 43 stored elements in Compressed Sparse Row format>"
      ]
     },
     "execution_count": 36,
     "metadata": {},
     "output_type": "execute_result"
    }
   ],
   "source": [
    "tfidf_matrix"
   ]
  },
  {
   "cell_type": "code",
   "execution_count": 37,
   "id": "a0a35462-d8b4-4950-a5f3-ad5404376270",
   "metadata": {
    "tags": []
   },
   "outputs": [],
   "source": [
    "feature_names = tfidf.get_feature_names_out()"
   ]
  },
  {
   "cell_type": "code",
   "execution_count": 38,
   "id": "bd99788a-1ba5-4134-823b-63944b779905",
   "metadata": {
    "tags": []
   },
   "outputs": [
    {
     "data": {
      "text/plain": [
       "array(['about', 'activity', 'advertising', 'also', 'analytics', 'are',\n",
       "       'be', 'by', 'can', 'computer', 'cookies', 'details', 'device',\n",
       "       'experience', 'files', 'for', 'information', 'like', 'login', 'on',\n",
       "       'or', 'personalize', 'phone', 'preferences', 'purposes',\n",
       "       'remember', 'small', 'so', 'stored', 'text', 'the', 'their',\n",
       "       'they', 'theyre', 'to', 'track', 'used', 'user', 'users', 'visit',\n",
       "       'web', 'website', 'websites'], dtype=object)"
      ]
     },
     "execution_count": 38,
     "metadata": {},
     "output_type": "execute_result"
    }
   ],
   "source": [
    "feature_names"
   ]
  },
  {
   "cell_type": "code",
   "execution_count": 40,
   "id": "ac61606f-c429-44d6-af4d-1e3921aa04d9",
   "metadata": {
    "tags": []
   },
   "outputs": [],
   "source": [
    "import pandas as pd"
   ]
  },
  {
   "cell_type": "code",
   "execution_count": 42,
   "id": "b7b934e2-087a-43e1-b051-2dc7a64b05d3",
   "metadata": {
    "tags": []
   },
   "outputs": [
    {
     "name": "stdout",
     "output_type": "stream",
     "text": [
      "      about  activity  advertising      also  analytics       are        be  \\\n",
      "0  0.111111  0.111111     0.111111  0.111111   0.111111  0.111111  0.111111   \n",
      "\n",
      "         by       can  computer  ...    theyre        to     track      used  \\\n",
      "0  0.111111  0.222222  0.111111  ...  0.111111  0.222222  0.111111  0.222222   \n",
      "\n",
      "       user     users     visit       web   website  websites  \n",
      "0  0.222222  0.222222  0.111111  0.111111  0.111111  0.222222  \n",
      "\n",
      "[1 rows x 43 columns]\n"
     ]
    }
   ],
   "source": [
    "df = pd.DataFrame(tfidf_matrix.toarray() , columns = feature_names)\n",
    "print(df)"
   ]
  }
 ],
 "metadata": {
  "kernelspec": {
   "display_name": "Python 3 (ipykernel)",
   "language": "python",
   "name": "python3"
  },
  "language_info": {
   "codemirror_mode": {
    "name": "ipython",
    "version": 3
   },
   "file_extension": ".py",
   "mimetype": "text/x-python",
   "name": "python",
   "nbconvert_exporter": "python",
   "pygments_lexer": "ipython3",
   "version": "3.11.5"
  }
 },
 "nbformat": 4,
 "nbformat_minor": 5
}
