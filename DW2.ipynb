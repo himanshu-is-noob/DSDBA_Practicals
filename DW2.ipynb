{
 "cells": [
  {
   "cell_type": "code",
   "execution_count": 1,
   "id": "f4eaa66e-0fb1-420a-afe7-bd35f7a6713c",
   "metadata": {
    "tags": []
   },
   "outputs": [],
   "source": [
    "import pandas as pd \n",
    "import numpy as np \n",
    "import seaborn as sns \n",
    "import matplotlib.pyplot as sns \n",
    "from sklearn.preprocessing import OneHotEncoder , LabelEncoder"
   ]
  },
  {
   "cell_type": "code",
   "execution_count": 6,
   "id": "f2522bf6-3386-49a6-ad1d-6e0f85335878",
   "metadata": {
    "tags": []
   },
   "outputs": [],
   "source": [
    "df = pd.read_csv(\"Students_Grading_Dataset_Biased.csv\")"
   ]
  },
  {
   "cell_type": "code",
   "execution_count": 7,
   "id": "8d018217-8f13-49f3-8a8e-c61f34c06cf1",
   "metadata": {
    "tags": []
   },
   "outputs": [
    {
     "data": {
      "text/html": [
       "<div>\n",
       "<style scoped>\n",
       "    .dataframe tbody tr th:only-of-type {\n",
       "        vertical-align: middle;\n",
       "    }\n",
       "\n",
       "    .dataframe tbody tr th {\n",
       "        vertical-align: top;\n",
       "    }\n",
       "\n",
       "    .dataframe thead th {\n",
       "        text-align: right;\n",
       "    }\n",
       "</style>\n",
       "<table border=\"1\" class=\"dataframe\">\n",
       "  <thead>\n",
       "    <tr style=\"text-align: right;\">\n",
       "      <th></th>\n",
       "      <th>Student_ID</th>\n",
       "      <th>First_Name</th>\n",
       "      <th>Last_Name</th>\n",
       "      <th>Email</th>\n",
       "      <th>Gender</th>\n",
       "      <th>Age</th>\n",
       "      <th>Department</th>\n",
       "      <th>Attendance (%)</th>\n",
       "      <th>Midterm_Score</th>\n",
       "      <th>Final_Score</th>\n",
       "      <th>...</th>\n",
       "      <th>Projects_Score</th>\n",
       "      <th>Total_Score</th>\n",
       "      <th>Grade</th>\n",
       "      <th>Study_Hours_per_Week</th>\n",
       "      <th>Extracurricular_Activities</th>\n",
       "      <th>Internet_Access_at_Home</th>\n",
       "      <th>Parent_Education_Level</th>\n",
       "      <th>Family_Income_Level</th>\n",
       "      <th>Stress_Level (1-10)</th>\n",
       "      <th>Sleep_Hours_per_Night</th>\n",
       "    </tr>\n",
       "  </thead>\n",
       "  <tbody>\n",
       "    <tr>\n",
       "      <th>0</th>\n",
       "      <td>S1000</td>\n",
       "      <td>Omar</td>\n",
       "      <td>Williams</td>\n",
       "      <td>student0@university.com</td>\n",
       "      <td>Female</td>\n",
       "      <td>22</td>\n",
       "      <td>Engineering</td>\n",
       "      <td>52.29</td>\n",
       "      <td>55.03</td>\n",
       "      <td>57.82</td>\n",
       "      <td>...</td>\n",
       "      <td>85.90</td>\n",
       "      <td>56.09</td>\n",
       "      <td>F</td>\n",
       "      <td>6.2</td>\n",
       "      <td>No</td>\n",
       "      <td>Yes</td>\n",
       "      <td>High School</td>\n",
       "      <td>Medium</td>\n",
       "      <td>5</td>\n",
       "      <td>4.7</td>\n",
       "    </tr>\n",
       "    <tr>\n",
       "      <th>1</th>\n",
       "      <td>S1001</td>\n",
       "      <td>Maria</td>\n",
       "      <td>Brown</td>\n",
       "      <td>student1@university.com</td>\n",
       "      <td>Male</td>\n",
       "      <td>18</td>\n",
       "      <td>Engineering</td>\n",
       "      <td>97.27</td>\n",
       "      <td>97.23</td>\n",
       "      <td>45.80</td>\n",
       "      <td>...</td>\n",
       "      <td>55.65</td>\n",
       "      <td>50.64</td>\n",
       "      <td>A</td>\n",
       "      <td>19.0</td>\n",
       "      <td>No</td>\n",
       "      <td>Yes</td>\n",
       "      <td>NaN</td>\n",
       "      <td>Medium</td>\n",
       "      <td>4</td>\n",
       "      <td>9.0</td>\n",
       "    </tr>\n",
       "    <tr>\n",
       "      <th>2</th>\n",
       "      <td>S1002</td>\n",
       "      <td>Ahmed</td>\n",
       "      <td>Jones</td>\n",
       "      <td>student2@university.com</td>\n",
       "      <td>Male</td>\n",
       "      <td>24</td>\n",
       "      <td>Business</td>\n",
       "      <td>57.19</td>\n",
       "      <td>67.05</td>\n",
       "      <td>93.68</td>\n",
       "      <td>...</td>\n",
       "      <td>73.79</td>\n",
       "      <td>70.30</td>\n",
       "      <td>D</td>\n",
       "      <td>20.7</td>\n",
       "      <td>No</td>\n",
       "      <td>Yes</td>\n",
       "      <td>Master's</td>\n",
       "      <td>Low</td>\n",
       "      <td>6</td>\n",
       "      <td>6.2</td>\n",
       "    </tr>\n",
       "    <tr>\n",
       "      <th>3</th>\n",
       "      <td>S1003</td>\n",
       "      <td>Omar</td>\n",
       "      <td>Williams</td>\n",
       "      <td>student3@university.com</td>\n",
       "      <td>Female</td>\n",
       "      <td>24</td>\n",
       "      <td>Mathematics</td>\n",
       "      <td>95.15</td>\n",
       "      <td>47.79</td>\n",
       "      <td>80.63</td>\n",
       "      <td>...</td>\n",
       "      <td>92.12</td>\n",
       "      <td>61.63</td>\n",
       "      <td>A</td>\n",
       "      <td>24.8</td>\n",
       "      <td>Yes</td>\n",
       "      <td>Yes</td>\n",
       "      <td>High School</td>\n",
       "      <td>High</td>\n",
       "      <td>3</td>\n",
       "      <td>6.7</td>\n",
       "    </tr>\n",
       "    <tr>\n",
       "      <th>4</th>\n",
       "      <td>S1004</td>\n",
       "      <td>John</td>\n",
       "      <td>Smith</td>\n",
       "      <td>student4@university.com</td>\n",
       "      <td>Female</td>\n",
       "      <td>23</td>\n",
       "      <td>CS</td>\n",
       "      <td>54.18</td>\n",
       "      <td>46.59</td>\n",
       "      <td>78.89</td>\n",
       "      <td>...</td>\n",
       "      <td>68.42</td>\n",
       "      <td>66.13</td>\n",
       "      <td>F</td>\n",
       "      <td>15.4</td>\n",
       "      <td>Yes</td>\n",
       "      <td>Yes</td>\n",
       "      <td>High School</td>\n",
       "      <td>High</td>\n",
       "      <td>2</td>\n",
       "      <td>7.1</td>\n",
       "    </tr>\n",
       "  </tbody>\n",
       "</table>\n",
       "<p>5 rows × 23 columns</p>\n",
       "</div>"
      ],
      "text/plain": [
       "  Student_ID First_Name Last_Name                    Email  Gender  Age  \\\n",
       "0      S1000       Omar  Williams  student0@university.com  Female   22   \n",
       "1      S1001      Maria     Brown  student1@university.com    Male   18   \n",
       "2      S1002      Ahmed     Jones  student2@university.com    Male   24   \n",
       "3      S1003       Omar  Williams  student3@university.com  Female   24   \n",
       "4      S1004       John     Smith  student4@university.com  Female   23   \n",
       "\n",
       "    Department  Attendance (%)  Midterm_Score  Final_Score  ...  \\\n",
       "0  Engineering           52.29          55.03        57.82  ...   \n",
       "1  Engineering           97.27          97.23        45.80  ...   \n",
       "2     Business           57.19          67.05        93.68  ...   \n",
       "3  Mathematics           95.15          47.79        80.63  ...   \n",
       "4           CS           54.18          46.59        78.89  ...   \n",
       "\n",
       "   Projects_Score  Total_Score  Grade  Study_Hours_per_Week  \\\n",
       "0           85.90        56.09      F                   6.2   \n",
       "1           55.65        50.64      A                  19.0   \n",
       "2           73.79        70.30      D                  20.7   \n",
       "3           92.12        61.63      A                  24.8   \n",
       "4           68.42        66.13      F                  15.4   \n",
       "\n",
       "   Extracurricular_Activities Internet_Access_at_Home  Parent_Education_Level  \\\n",
       "0                          No                     Yes             High School   \n",
       "1                          No                     Yes                     NaN   \n",
       "2                          No                     Yes                Master's   \n",
       "3                         Yes                     Yes             High School   \n",
       "4                         Yes                     Yes             High School   \n",
       "\n",
       "  Family_Income_Level Stress_Level (1-10) Sleep_Hours_per_Night  \n",
       "0              Medium                   5                   4.7  \n",
       "1              Medium                   4                   9.0  \n",
       "2                 Low                   6                   6.2  \n",
       "3                High                   3                   6.7  \n",
       "4                High                   2                   7.1  \n",
       "\n",
       "[5 rows x 23 columns]"
      ]
     },
     "execution_count": 7,
     "metadata": {},
     "output_type": "execute_result"
    }
   ],
   "source": [
    "df.head()"
   ]
  },
  {
   "cell_type": "code",
   "execution_count": 8,
   "id": "8cb96a6b-3591-4394-b6c0-c74a2267d73b",
   "metadata": {
    "tags": []
   },
   "outputs": [
    {
     "data": {
      "text/plain": [
       "Student_ID                       0\n",
       "First_Name                       0\n",
       "Last_Name                        0\n",
       "Email                            0\n",
       "Gender                           0\n",
       "Age                              0\n",
       "Department                       0\n",
       "Attendance (%)                 516\n",
       "Midterm_Score                    0\n",
       "Final_Score                      0\n",
       "Assignments_Avg                517\n",
       "Quizzes_Avg                      0\n",
       "Participation_Score              0\n",
       "Projects_Score                   0\n",
       "Total_Score                      0\n",
       "Grade                            0\n",
       "Study_Hours_per_Week             0\n",
       "Extracurricular_Activities       0\n",
       "Internet_Access_at_Home          0\n",
       "Parent_Education_Level        1794\n",
       "Family_Income_Level              0\n",
       "Stress_Level (1-10)              0\n",
       "Sleep_Hours_per_Night            0\n",
       "dtype: int64"
      ]
     },
     "execution_count": 8,
     "metadata": {},
     "output_type": "execute_result"
    }
   ],
   "source": [
    "df.isnull().sum()"
   ]
  },
  {
   "cell_type": "code",
   "execution_count": 12,
   "id": "5c3aeb40-4d31-434d-87ce-2ea4f51fb170",
   "metadata": {
    "tags": []
   },
   "outputs": [],
   "source": [
    "df['Attendance (%)'].fillna(df['Attendance (%)'].mean() ,  inplace = True)"
   ]
  },
  {
   "cell_type": "code",
   "execution_count": 13,
   "id": "3f792789-a351-4296-bb9b-36aceec1ab9a",
   "metadata": {
    "tags": []
   },
   "outputs": [
    {
     "data": {
      "text/html": [
       "<div>\n",
       "<style scoped>\n",
       "    .dataframe tbody tr th:only-of-type {\n",
       "        vertical-align: middle;\n",
       "    }\n",
       "\n",
       "    .dataframe tbody tr th {\n",
       "        vertical-align: top;\n",
       "    }\n",
       "\n",
       "    .dataframe thead th {\n",
       "        text-align: right;\n",
       "    }\n",
       "</style>\n",
       "<table border=\"1\" class=\"dataframe\">\n",
       "  <thead>\n",
       "    <tr style=\"text-align: right;\">\n",
       "      <th></th>\n",
       "      <th>Student_ID</th>\n",
       "      <th>First_Name</th>\n",
       "      <th>Last_Name</th>\n",
       "      <th>Email</th>\n",
       "      <th>Gender</th>\n",
       "      <th>Age</th>\n",
       "      <th>Department</th>\n",
       "      <th>Attendance (%)</th>\n",
       "      <th>Midterm_Score</th>\n",
       "      <th>Final_Score</th>\n",
       "      <th>...</th>\n",
       "      <th>Projects_Score</th>\n",
       "      <th>Total_Score</th>\n",
       "      <th>Grade</th>\n",
       "      <th>Study_Hours_per_Week</th>\n",
       "      <th>Extracurricular_Activities</th>\n",
       "      <th>Internet_Access_at_Home</th>\n",
       "      <th>Parent_Education_Level</th>\n",
       "      <th>Family_Income_Level</th>\n",
       "      <th>Stress_Level (1-10)</th>\n",
       "      <th>Sleep_Hours_per_Night</th>\n",
       "    </tr>\n",
       "  </thead>\n",
       "  <tbody>\n",
       "    <tr>\n",
       "      <th>0</th>\n",
       "      <td>S1000</td>\n",
       "      <td>Omar</td>\n",
       "      <td>Williams</td>\n",
       "      <td>student0@university.com</td>\n",
       "      <td>Female</td>\n",
       "      <td>22</td>\n",
       "      <td>Engineering</td>\n",
       "      <td>52.29</td>\n",
       "      <td>55.03</td>\n",
       "      <td>57.82</td>\n",
       "      <td>...</td>\n",
       "      <td>85.90</td>\n",
       "      <td>56.09</td>\n",
       "      <td>F</td>\n",
       "      <td>6.2</td>\n",
       "      <td>No</td>\n",
       "      <td>Yes</td>\n",
       "      <td>High School</td>\n",
       "      <td>Medium</td>\n",
       "      <td>5</td>\n",
       "      <td>4.7</td>\n",
       "    </tr>\n",
       "    <tr>\n",
       "      <th>1</th>\n",
       "      <td>S1001</td>\n",
       "      <td>Maria</td>\n",
       "      <td>Brown</td>\n",
       "      <td>student1@university.com</td>\n",
       "      <td>Male</td>\n",
       "      <td>18</td>\n",
       "      <td>Engineering</td>\n",
       "      <td>97.27</td>\n",
       "      <td>97.23</td>\n",
       "      <td>45.80</td>\n",
       "      <td>...</td>\n",
       "      <td>55.65</td>\n",
       "      <td>50.64</td>\n",
       "      <td>A</td>\n",
       "      <td>19.0</td>\n",
       "      <td>No</td>\n",
       "      <td>Yes</td>\n",
       "      <td>NaN</td>\n",
       "      <td>Medium</td>\n",
       "      <td>4</td>\n",
       "      <td>9.0</td>\n",
       "    </tr>\n",
       "    <tr>\n",
       "      <th>2</th>\n",
       "      <td>S1002</td>\n",
       "      <td>Ahmed</td>\n",
       "      <td>Jones</td>\n",
       "      <td>student2@university.com</td>\n",
       "      <td>Male</td>\n",
       "      <td>24</td>\n",
       "      <td>Business</td>\n",
       "      <td>57.19</td>\n",
       "      <td>67.05</td>\n",
       "      <td>93.68</td>\n",
       "      <td>...</td>\n",
       "      <td>73.79</td>\n",
       "      <td>70.30</td>\n",
       "      <td>D</td>\n",
       "      <td>20.7</td>\n",
       "      <td>No</td>\n",
       "      <td>Yes</td>\n",
       "      <td>Master's</td>\n",
       "      <td>Low</td>\n",
       "      <td>6</td>\n",
       "      <td>6.2</td>\n",
       "    </tr>\n",
       "    <tr>\n",
       "      <th>3</th>\n",
       "      <td>S1003</td>\n",
       "      <td>Omar</td>\n",
       "      <td>Williams</td>\n",
       "      <td>student3@university.com</td>\n",
       "      <td>Female</td>\n",
       "      <td>24</td>\n",
       "      <td>Mathematics</td>\n",
       "      <td>95.15</td>\n",
       "      <td>47.79</td>\n",
       "      <td>80.63</td>\n",
       "      <td>...</td>\n",
       "      <td>92.12</td>\n",
       "      <td>61.63</td>\n",
       "      <td>A</td>\n",
       "      <td>24.8</td>\n",
       "      <td>Yes</td>\n",
       "      <td>Yes</td>\n",
       "      <td>High School</td>\n",
       "      <td>High</td>\n",
       "      <td>3</td>\n",
       "      <td>6.7</td>\n",
       "    </tr>\n",
       "    <tr>\n",
       "      <th>4</th>\n",
       "      <td>S1004</td>\n",
       "      <td>John</td>\n",
       "      <td>Smith</td>\n",
       "      <td>student4@university.com</td>\n",
       "      <td>Female</td>\n",
       "      <td>23</td>\n",
       "      <td>CS</td>\n",
       "      <td>54.18</td>\n",
       "      <td>46.59</td>\n",
       "      <td>78.89</td>\n",
       "      <td>...</td>\n",
       "      <td>68.42</td>\n",
       "      <td>66.13</td>\n",
       "      <td>F</td>\n",
       "      <td>15.4</td>\n",
       "      <td>Yes</td>\n",
       "      <td>Yes</td>\n",
       "      <td>High School</td>\n",
       "      <td>High</td>\n",
       "      <td>2</td>\n",
       "      <td>7.1</td>\n",
       "    </tr>\n",
       "  </tbody>\n",
       "</table>\n",
       "<p>5 rows × 23 columns</p>\n",
       "</div>"
      ],
      "text/plain": [
       "  Student_ID First_Name Last_Name                    Email  Gender  Age  \\\n",
       "0      S1000       Omar  Williams  student0@university.com  Female   22   \n",
       "1      S1001      Maria     Brown  student1@university.com    Male   18   \n",
       "2      S1002      Ahmed     Jones  student2@university.com    Male   24   \n",
       "3      S1003       Omar  Williams  student3@university.com  Female   24   \n",
       "4      S1004       John     Smith  student4@university.com  Female   23   \n",
       "\n",
       "    Department  Attendance (%)  Midterm_Score  Final_Score  ...  \\\n",
       "0  Engineering           52.29          55.03        57.82  ...   \n",
       "1  Engineering           97.27          97.23        45.80  ...   \n",
       "2     Business           57.19          67.05        93.68  ...   \n",
       "3  Mathematics           95.15          47.79        80.63  ...   \n",
       "4           CS           54.18          46.59        78.89  ...   \n",
       "\n",
       "   Projects_Score  Total_Score  Grade  Study_Hours_per_Week  \\\n",
       "0           85.90        56.09      F                   6.2   \n",
       "1           55.65        50.64      A                  19.0   \n",
       "2           73.79        70.30      D                  20.7   \n",
       "3           92.12        61.63      A                  24.8   \n",
       "4           68.42        66.13      F                  15.4   \n",
       "\n",
       "   Extracurricular_Activities Internet_Access_at_Home  Parent_Education_Level  \\\n",
       "0                          No                     Yes             High School   \n",
       "1                          No                     Yes                     NaN   \n",
       "2                          No                     Yes                Master's   \n",
       "3                         Yes                     Yes             High School   \n",
       "4                         Yes                     Yes             High School   \n",
       "\n",
       "  Family_Income_Level Stress_Level (1-10) Sleep_Hours_per_Night  \n",
       "0              Medium                   5                   4.7  \n",
       "1              Medium                   4                   9.0  \n",
       "2                 Low                   6                   6.2  \n",
       "3                High                   3                   6.7  \n",
       "4                High                   2                   7.1  \n",
       "\n",
       "[5 rows x 23 columns]"
      ]
     },
     "execution_count": 13,
     "metadata": {},
     "output_type": "execute_result"
    }
   ],
   "source": [
    "df.head()"
   ]
  },
  {
   "cell_type": "code",
   "execution_count": 14,
   "id": "3dcc3a28-97c0-42eb-9dde-2e76fa842d5e",
   "metadata": {
    "tags": []
   },
   "outputs": [
    {
     "data": {
      "text/plain": [
       "0"
      ]
     },
     "execution_count": 14,
     "metadata": {},
     "output_type": "execute_result"
    }
   ],
   "source": [
    "df['Attendance (%)'].isnull().sum()"
   ]
  },
  {
   "cell_type": "code",
   "execution_count": 15,
   "id": "f328dcbb-875c-472a-8e2e-eb87c669f38e",
   "metadata": {
    "tags": []
   },
   "outputs": [
    {
     "data": {
      "text/plain": [
       "Student_ID                       0\n",
       "First_Name                       0\n",
       "Last_Name                        0\n",
       "Email                            0\n",
       "Gender                           0\n",
       "Age                              0\n",
       "Department                       0\n",
       "Attendance (%)                   0\n",
       "Midterm_Score                    0\n",
       "Final_Score                      0\n",
       "Assignments_Avg                517\n",
       "Quizzes_Avg                      0\n",
       "Participation_Score              0\n",
       "Projects_Score                   0\n",
       "Total_Score                      0\n",
       "Grade                            0\n",
       "Study_Hours_per_Week             0\n",
       "Extracurricular_Activities       0\n",
       "Internet_Access_at_Home          0\n",
       "Parent_Education_Level        1794\n",
       "Family_Income_Level              0\n",
       "Stress_Level (1-10)              0\n",
       "Sleep_Hours_per_Night            0\n",
       "dtype: int64"
      ]
     },
     "execution_count": 15,
     "metadata": {},
     "output_type": "execute_result"
    }
   ],
   "source": [
    "df.isnull().sum()"
   ]
  },
  {
   "cell_type": "code",
   "execution_count": 16,
   "id": "299ba05b-298b-4935-939f-aac3311c8e18",
   "metadata": {
    "tags": []
   },
   "outputs": [],
   "source": [
    "df['Assignments_Avg'].fillna(df['Assignments_Avg'].mean() , inplace = True)"
   ]
  },
  {
   "cell_type": "code",
   "execution_count": 17,
   "id": "1f4fbe41-f814-47a4-9d44-41b97955374e",
   "metadata": {
    "tags": []
   },
   "outputs": [
    {
     "data": {
      "text/plain": [
       "0"
      ]
     },
     "execution_count": 17,
     "metadata": {},
     "output_type": "execute_result"
    }
   ],
   "source": [
    "df['Assignments_Avg'].isnull().sum()"
   ]
  },
  {
   "cell_type": "code",
   "execution_count": 19,
   "id": "54130416-7e29-46fb-b758-5d78b31e29d0",
   "metadata": {
    "tags": []
   },
   "outputs": [
    {
     "data": {
      "text/plain": [
       "Student_ID                       0\n",
       "First_Name                       0\n",
       "Last_Name                        0\n",
       "Email                            0\n",
       "Gender                           0\n",
       "Age                              0\n",
       "Department                       0\n",
       "Attendance (%)                   0\n",
       "Midterm_Score                    0\n",
       "Final_Score                      0\n",
       "Assignments_Avg                  0\n",
       "Quizzes_Avg                      0\n",
       "Participation_Score              0\n",
       "Projects_Score                   0\n",
       "Total_Score                      0\n",
       "Grade                            0\n",
       "Study_Hours_per_Week             0\n",
       "Extracurricular_Activities       0\n",
       "Internet_Access_at_Home          0\n",
       "Parent_Education_Level        1794\n",
       "Family_Income_Level              0\n",
       "Stress_Level (1-10)              0\n",
       "Sleep_Hours_per_Night            0\n",
       "dtype: int64"
      ]
     },
     "execution_count": 19,
     "metadata": {},
     "output_type": "execute_result"
    }
   ],
   "source": [
    "df.isnull().sum()"
   ]
  },
  {
   "cell_type": "code",
   "execution_count": 20,
   "id": "33182f63-abfe-460a-a306-07f241f57ad7",
   "metadata": {
    "tags": []
   },
   "outputs": [
    {
     "data": {
      "text/plain": [
       "0"
      ]
     },
     "execution_count": 20,
     "metadata": {},
     "output_type": "execute_result"
    }
   ],
   "source": [
    "df.duplicated().sum()"
   ]
  },
  {
   "cell_type": "code",
   "execution_count": 27,
   "id": "17b3f7de-4d9f-4ca4-85c1-c9c811d78eae",
   "metadata": {
    "tags": []
   },
   "outputs": [
    {
     "data": {
      "text/plain": [
       "{'whiskers': [<matplotlib.lines.Line2D at 0x1b76d85e990>,\n",
       "  <matplotlib.lines.Line2D at 0x1b76d85f4d0>],\n",
       " 'caps': [<matplotlib.lines.Line2D at 0x1b76d85f450>,\n",
       "  <matplotlib.lines.Line2D at 0x1b76d870690>],\n",
       " 'boxes': [<matplotlib.lines.Line2D at 0x1b76d85df90>],\n",
       " 'medians': [<matplotlib.lines.Line2D at 0x1b76d870f50>],\n",
       " 'fliers': [<matplotlib.lines.Line2D at 0x1b76d85fb50>],\n",
       " 'means': []}"
      ]
     },
     "execution_count": 27,
     "metadata": {},
     "output_type": "execute_result"
    },
    {
     "data": {
      "image/png": "[encoded data removed]",
      "text/plain": [
       "<Figure size 640x480 with 1 Axes>"
      ]
     },
     "metadata": {},
     "output_type": "display_data"
    }
   ],
   "source": [
    "sns.boxplot(data = df , x = 'Midterm_Score' )"
   ]
  },
  {
   "cell_type": "code",
   "execution_count": 28,
   "id": "21f13a76-8c79-4313-9588-01c54b309d39",
   "metadata": {
    "tags": []
   },
   "outputs": [
    {
     "data": {
      "text/html": [
       "<div>\n",
       "<style scoped>\n",
       "    .dataframe tbody tr th:only-of-type {\n",
       "        vertical-align: middle;\n",
       "    }\n",
       "\n",
       "    .dataframe tbody tr th {\n",
       "        vertical-align: top;\n",
       "    }\n",
       "\n",
       "    .dataframe thead th {\n",
       "        text-align: right;\n",
       "    }\n",
       "</style>\n",
       "<table border=\"1\" class=\"dataframe\">\n",
       "  <thead>\n",
       "    <tr style=\"text-align: right;\">\n",
       "      <th></th>\n",
       "      <th>Student_ID</th>\n",
       "      <th>First_Name</th>\n",
       "      <th>Last_Name</th>\n",
       "      <th>Email</th>\n",
       "      <th>Gender</th>\n",
       "      <th>Age</th>\n",
       "      <th>Department</th>\n",
       "      <th>Attendance (%)</th>\n",
       "      <th>Midterm_Score</th>\n",
       "      <th>Final_Score</th>\n",
       "      <th>...</th>\n",
       "      <th>Projects_Score</th>\n",
       "      <th>Total_Score</th>\n",
       "      <th>Grade</th>\n",
       "      <th>Study_Hours_per_Week</th>\n",
       "      <th>Extracurricular_Activities</th>\n",
       "      <th>Internet_Access_at_Home</th>\n",
       "      <th>Parent_Education_Level</th>\n",
       "      <th>Family_Income_Level</th>\n",
       "      <th>Stress_Level (1-10)</th>\n",
       "      <th>Sleep_Hours_per_Night</th>\n",
       "    </tr>\n",
       "  </thead>\n",
       "  <tbody>\n",
       "    <tr>\n",
       "      <th>0</th>\n",
       "      <td>S1000</td>\n",
       "      <td>Omar</td>\n",
       "      <td>Williams</td>\n",
       "      <td>student0@university.com</td>\n",
       "      <td>Female</td>\n",
       "      <td>22</td>\n",
       "      <td>Engineering</td>\n",
       "      <td>52.29</td>\n",
       "      <td>55.03</td>\n",
       "      <td>57.82</td>\n",
       "      <td>...</td>\n",
       "      <td>85.90</td>\n",
       "      <td>56.09</td>\n",
       "      <td>F</td>\n",
       "      <td>6.2</td>\n",
       "      <td>No</td>\n",
       "      <td>Yes</td>\n",
       "      <td>High School</td>\n",
       "      <td>Medium</td>\n",
       "      <td>5</td>\n",
       "      <td>4.7</td>\n",
       "    </tr>\n",
       "    <tr>\n",
       "      <th>1</th>\n",
       "      <td>S1001</td>\n",
       "      <td>Maria</td>\n",
       "      <td>Brown</td>\n",
       "      <td>student1@university.com</td>\n",
       "      <td>Male</td>\n",
       "      <td>18</td>\n",
       "      <td>Engineering</td>\n",
       "      <td>97.27</td>\n",
       "      <td>97.23</td>\n",
       "      <td>45.80</td>\n",
       "      <td>...</td>\n",
       "      <td>55.65</td>\n",
       "      <td>50.64</td>\n",
       "      <td>A</td>\n",
       "      <td>19.0</td>\n",
       "      <td>No</td>\n",
       "      <td>Yes</td>\n",
       "      <td>NaN</td>\n",
       "      <td>Medium</td>\n",
       "      <td>4</td>\n",
       "      <td>9.0</td>\n",
       "    </tr>\n",
       "    <tr>\n",
       "      <th>2</th>\n",
       "      <td>S1002</td>\n",
       "      <td>Ahmed</td>\n",
       "      <td>Jones</td>\n",
       "      <td>student2@university.com</td>\n",
       "      <td>Male</td>\n",
       "      <td>24</td>\n",
       "      <td>Business</td>\n",
       "      <td>57.19</td>\n",
       "      <td>67.05</td>\n",
       "      <td>93.68</td>\n",
       "      <td>...</td>\n",
       "      <td>73.79</td>\n",
       "      <td>70.30</td>\n",
       "      <td>D</td>\n",
       "      <td>20.7</td>\n",
       "      <td>No</td>\n",
       "      <td>Yes</td>\n",
       "      <td>Master's</td>\n",
       "      <td>Low</td>\n",
       "      <td>6</td>\n",
       "      <td>6.2</td>\n",
       "    </tr>\n",
       "    <tr>\n",
       "      <th>3</th>\n",
       "      <td>S1003</td>\n",
       "      <td>Omar</td>\n",
       "      <td>Williams</td>\n",
       "      <td>student3@university.com</td>\n",
       "      <td>Female</td>\n",
       "      <td>24</td>\n",
       "      <td>Mathematics</td>\n",
       "      <td>95.15</td>\n",
       "      <td>47.79</td>\n",
       "      <td>80.63</td>\n",
       "      <td>...</td>\n",
       "      <td>92.12</td>\n",
       "      <td>61.63</td>\n",
       "      <td>A</td>\n",
       "      <td>24.8</td>\n",
       "      <td>Yes</td>\n",
       "      <td>Yes</td>\n",
       "      <td>High School</td>\n",
       "      <td>High</td>\n",
       "      <td>3</td>\n",
       "      <td>6.7</td>\n",
       "    </tr>\n",
       "    <tr>\n",
       "      <th>4</th>\n",
       "      <td>S1004</td>\n",
       "      <td>John</td>\n",
       "      <td>Smith</td>\n",
       "      <td>student4@university.com</td>\n",
       "      <td>Female</td>\n",
       "      <td>23</td>\n",
       "      <td>CS</td>\n",
       "      <td>54.18</td>\n",
       "      <td>46.59</td>\n",
       "      <td>78.89</td>\n",
       "      <td>...</td>\n",
       "      <td>68.42</td>\n",
       "      <td>66.13</td>\n",
       "      <td>F</td>\n",
       "      <td>15.4</td>\n",
       "      <td>Yes</td>\n",
       "      <td>Yes</td>\n",
       "      <td>High School</td>\n",
       "      <td>High</td>\n",
       "      <td>2</td>\n",
       "      <td>7.1</td>\n",
       "    </tr>\n",
       "  </tbody>\n",
       "</table>\n",
       "<p>5 rows × 23 columns</p>\n",
       "</div>"
      ],
      "text/plain": [
       "  Student_ID First_Name Last_Name                    Email  Gender  Age  \\\n",
       "0      S1000       Omar  Williams  student0@university.com  Female   22   \n",
       "1      S1001      Maria     Brown  student1@university.com    Male   18   \n",
       "2      S1002      Ahmed     Jones  student2@university.com    Male   24   \n",
       "3      S1003       Omar  Williams  student3@university.com  Female   24   \n",
       "4      S1004       John     Smith  student4@university.com  Female   23   \n",
       "\n",
       "    Department  Attendance (%)  Midterm_Score  Final_Score  ...  \\\n",
       "0  Engineering           52.29          55.03        57.82  ...   \n",
       "1  Engineering           97.27          97.23        45.80  ...   \n",
       "2     Business           57.19          67.05        93.68  ...   \n",
       "3  Mathematics           95.15          47.79        80.63  ...   \n",
       "4           CS           54.18          46.59        78.89  ...   \n",
       "\n",
       "   Projects_Score  Total_Score  Grade  Study_Hours_per_Week  \\\n",
       "0           85.90        56.09      F                   6.2   \n",
       "1           55.65        50.64      A                  19.0   \n",
       "2           73.79        70.30      D                  20.7   \n",
       "3           92.12        61.63      A                  24.8   \n",
       "4           68.42        66.13      F                  15.4   \n",
       "\n",
       "   Extracurricular_Activities Internet_Access_at_Home  Parent_Education_Level  \\\n",
       "0                          No                     Yes             High School   \n",
       "1                          No                     Yes                     NaN   \n",
       "2                          No                     Yes                Master's   \n",
       "3                         Yes                     Yes             High School   \n",
       "4                         Yes                     Yes             High School   \n",
       "\n",
       "  Family_Income_Level Stress_Level (1-10) Sleep_Hours_per_Night  \n",
       "0              Medium                   5                   4.7  \n",
       "1              Medium                   4                   9.0  \n",
       "2                 Low                   6                   6.2  \n",
       "3                High                   3                   6.7  \n",
       "4                High                   2                   7.1  \n",
       "\n",
       "[5 rows x 23 columns]"
      ]
     },
     "execution_count": 28,
     "metadata": {},
     "output_type": "execute_result"
    }
   ],
   "source": [
    "df.head()"
   ]
  },
  {
   "cell_type": "code",
   "execution_count": 29,
   "id": "4525974f-c005-4ab6-9b01-ffa6e00aa7b2",
   "metadata": {
    "tags": []
   },
   "outputs": [
    {
     "data": {
      "text/plain": [
       "{'whiskers': [<matplotlib.lines.Line2D at 0x1b76da0c4d0>,\n",
       "  <matplotlib.lines.Line2D at 0x1b76da0ce90>],\n",
       " 'caps': [<matplotlib.lines.Line2D at 0x1b76da0d810>,\n",
       "  <matplotlib.lines.Line2D at 0x1b76da0e190>],\n",
       " 'boxes': [<matplotlib.lines.Line2D at 0x1b76d9ffa10>],\n",
       " 'medians': [<matplotlib.lines.Line2D at 0x1b76da0ead0>],\n",
       " 'fliers': [<matplotlib.lines.Line2D at 0x1b76da0f3d0>],\n",
       " 'means': []}"
      ]
     },
     "execution_count": 29,
     "metadata": {},
     "output_type": "execute_result"
    },
    {
     "data": {
      "image/png": "[encoded data removed]",
      "text/plain": [
       "<Figure size 640x480 with 1 Axes>"
      ]
     },
     "metadata": {},
     "output_type": "display_data"
    }
   ],
   "source": [
    "sns.boxplot(data = df , x = 'Attendance (%)')"
   ]
  },
  {
   "cell_type": "code",
   "execution_count": 37,
   "id": "4e50264d-f49b-4690-85ec-b3d8dc0663c8",
   "metadata": {
    "tags": []
   },
   "outputs": [],
   "source": [
    "df.columns = df.columns.str.strip()"
   ]
  },
  {
   "cell_type": "code",
   "execution_count": 40,
   "id": "d06e8559-b150-4184-86b5-ea9f2144bd25",
   "metadata": {
    "tags": []
   },
   "outputs": [
    {
     "data": {
      "image/png": "[encoded data removed]",
      "text/plain": [
       "<Figure size 640x480 with 1 Axes>"
      ]
     },
     "metadata": {},
     "output_type": "display_data"
    }
   ],
   "source": [
    "import seaborn as sns\n",
    "import matplotlib.pyplot as plt\n",
    "\n",
    "sns.boxplot(x='Department', y='Attendance (%)', data=df)\n",
    "plt.title(\"Attendance Distribution by Department\")\n",
    "plt.xticks(rotation=45)\n",
    "plt.show()\n"
   ]
  },
  {
   "cell_type": "code",
   "execution_count": 44,
   "id": "8d7f3a23-7dd6-4f0c-b7cd-1e88824fda29",
   "metadata": {
    "tags": []
   },
   "outputs": [],
   "source": [
    "def handle_outlier_iqr(column):\n",
    "    Q1 = df[column].quantile(0.25)\n",
    "    Q3 = df[column].quantile(0.75)\n",
    "    \n",
    "    IQR = Q3 - Q1\n",
    "    lower = Q1 - 1.5 * IQR\n",
    "    upper = Q2 + 1.5 * IQR\n",
    "    print(f\"\\n{column} - Lower Bound: {lower}, Upper Bound: {upper}\")"
   ]
  },
  {
   "cell_type": "code",
   "execution_count": 52,
   "id": "1dc95768-e22b-40f7-9859-3e9f6c2aaafa",
   "metadata": {
    "tags": []
   },
   "outputs": [
    {
     "ename": "SyntaxError",
     "evalue": "invalid syntax. Perhaps you forgot a comma? (734969593.py, line 5)",
     "output_type": "error",
     "traceback": [
      "\u001b[1;36m  Cell \u001b[1;32mIn[52], line 5\u001b[1;36m\u001b[0m\n\u001b[1;33m    df[column] = np.where(df[colb\u001b[0m\n\u001b[1;37m                             ^\u001b[0m\n\u001b[1;31mSyntaxError\u001b[0m\u001b[1;31m:\u001b[0m invalid syntax. Perhaps you forgot a comma?\n"
     ]
    }
   ],
   "source": [
    "outliers = df[(df[column] < lower) | (df[column] > upper)][column]\n",
    "print(f\"Outliers in {column}:\\n{outliers}\")\n",
    "\n",
    "    # Cap the outliers\n",
    "df[column] = np.where(df[colb\n",
    "                         umn] < lower, lower,np.where(df[column] > upper, upper, df[column]))"
   ]
  },
  {
   "cell_type": "code",
   "execution_count": null,
   "id": "4ac3f2dc-1bd2-4613-9ac6-005858912d37",
   "metadata": {},
   "outputs": [],
   "source": []
  },
  {
   "cell_type": "code",
   "execution_count": null,
   "id": "a55dd70d-4711-405e-afc9-dcbc8204c1b6",
   "metadata": {},
   "outputs": [],
   "source": []
  },
  {
   "cell_type": "code",
   "execution_count": null,
   "id": "2ae21ec4-579f-4ca8-bd7c-2aa726239a3c",
   "metadata": {},
   "outputs": [],
   "source": []
  },
  {
   "cell_type": "code",
   "execution_count": null,
   "id": "3502b505-911a-4077-bb9e-ab73fe2d412a",
   "metadata": {},
   "outputs": [],
   "source": []
  },
  {
   "cell_type": "code",
   "execution_count": null,
   "id": "df242301-ef06-46c8-9c26-ec0d6c22e5fc",
   "metadata": {},
   "outputs": [],
   "source": []
  },
  {
   "cell_type": "code",
   "execution_count": 53,
   "id": "027e3c81-b94b-4d8f-9b72-4ca55a12bc7a",
   "metadata": {
    "tags": []
   },
   "outputs": [],
   "source": [
    "\n",
    "# Log Transformation in Data Transformation "
   ]
  },
  {
   "cell_type": "code",
   "execution_count": 57,
   "id": "1e396082-2464-4764-9b2e-4190e38c460b",
   "metadata": {
    "tags": []
   },
   "outputs": [
    {
     "data": {
      "image/png": "[encoded data removed]",
      "text/plain": [
       "<Figure size 640x480 with 1 Axes>"
      ]
     },
     "metadata": {},
     "output_type": "display_data"
    }
   ],
   "source": [
    "sns.histplot(df['Midterm_Score'] , kde = True)\n",
    "plt.title(\"Before Transformation\")\n",
    "plt.show()"
   ]
  },
  {
   "cell_type": "code",
   "execution_count": 58,
   "id": "e11ad49e-d2db-47b4-8d2d-49112969c58b",
   "metadata": {
    "tags": []
   },
   "outputs": [],
   "source": [
    "\n",
    "#Apply Log Transformation "
   ]
  },
  {
   "cell_type": "code",
   "execution_count": 59,
   "id": "b087ec0a-8a2e-47e4-9d75-e0f41cde0296",
   "metadata": {
    "tags": []
   },
   "outputs": [],
   "source": [
    "math_scores = np.log1p(df['Midterm_Score'])"
   ]
  },
  {
   "cell_type": "code",
   "execution_count": 61,
   "id": "d6e429fd-f105-40ff-b08e-d042141c9bc7",
   "metadata": {
    "tags": []
   },
   "outputs": [],
   "source": [
    "df['Transformed_Midterm_Score'] = math_scores"
   ]
  },
  {
   "cell_type": "code",
   "execution_count": 62,
   "id": "568adae1-11cb-45ad-81f5-3c34b3514d06",
   "metadata": {
    "tags": []
   },
   "outputs": [
    {
     "data": {
      "text/html": [
       "<div>\n",
       "<style scoped>\n",
       "    .dataframe tbody tr th:only-of-type {\n",
       "        vertical-align: middle;\n",
       "    }\n",
       "\n",
       "    .dataframe tbody tr th {\n",
       "        vertical-align: top;\n",
       "    }\n",
       "\n",
       "    .dataframe thead th {\n",
       "        text-align: right;\n",
       "    }\n",
       "</style>\n",
       "<table border=\"1\" class=\"dataframe\">\n",
       "  <thead>\n",
       "    <tr style=\"text-align: right;\">\n",
       "      <th></th>\n",
       "      <th>Student_ID</th>\n",
       "      <th>First_Name</th>\n",
       "      <th>Last_Name</th>\n",
       "      <th>Email</th>\n",
       "      <th>Gender</th>\n",
       "      <th>Age</th>\n",
       "      <th>Department</th>\n",
       "      <th>Attendance (%)</th>\n",
       "      <th>Midterm_Score</th>\n",
       "      <th>Final_Score</th>\n",
       "      <th>...</th>\n",
       "      <th>Total_Score</th>\n",
       "      <th>Grade</th>\n",
       "      <th>Study_Hours_per_Week</th>\n",
       "      <th>Extracurricular_Activities</th>\n",
       "      <th>Internet_Access_at_Home</th>\n",
       "      <th>Parent_Education_Level</th>\n",
       "      <th>Family_Income_Level</th>\n",
       "      <th>Stress_Level (1-10)</th>\n",
       "      <th>Sleep_Hours_per_Night</th>\n",
       "      <th>Transformed_Midterm_Score</th>\n",
       "    </tr>\n",
       "  </thead>\n",
       "  <tbody>\n",
       "    <tr>\n",
       "      <th>0</th>\n",
       "      <td>S1000</td>\n",
       "      <td>Omar</td>\n",
       "      <td>Williams</td>\n",
       "      <td>student0@university.com</td>\n",
       "      <td>Female</td>\n",
       "      <td>22</td>\n",
       "      <td>Engineering</td>\n",
       "      <td>52.29</td>\n",
       "      <td>55.03</td>\n",
       "      <td>57.82</td>\n",
       "      <td>...</td>\n",
       "      <td>56.09</td>\n",
       "      <td>F</td>\n",
       "      <td>6.2</td>\n",
       "      <td>No</td>\n",
       "      <td>Yes</td>\n",
       "      <td>High School</td>\n",
       "      <td>Medium</td>\n",
       "      <td>5</td>\n",
       "      <td>4.7</td>\n",
       "      <td>4.025887</td>\n",
       "    </tr>\n",
       "    <tr>\n",
       "      <th>1</th>\n",
       "      <td>S1001</td>\n",
       "      <td>Maria</td>\n",
       "      <td>Brown</td>\n",
       "      <td>student1@university.com</td>\n",
       "      <td>Male</td>\n",
       "      <td>18</td>\n",
       "      <td>Engineering</td>\n",
       "      <td>97.27</td>\n",
       "      <td>97.23</td>\n",
       "      <td>45.80</td>\n",
       "      <td>...</td>\n",
       "      <td>50.64</td>\n",
       "      <td>A</td>\n",
       "      <td>19.0</td>\n",
       "      <td>No</td>\n",
       "      <td>Yes</td>\n",
       "      <td>NaN</td>\n",
       "      <td>Medium</td>\n",
       "      <td>4</td>\n",
       "      <td>9.0</td>\n",
       "      <td>4.587312</td>\n",
       "    </tr>\n",
       "    <tr>\n",
       "      <th>2</th>\n",
       "      <td>S1002</td>\n",
       "      <td>Ahmed</td>\n",
       "      <td>Jones</td>\n",
       "      <td>student2@university.com</td>\n",
       "      <td>Male</td>\n",
       "      <td>24</td>\n",
       "      <td>Business</td>\n",
       "      <td>57.19</td>\n",
       "      <td>67.05</td>\n",
       "      <td>93.68</td>\n",
       "      <td>...</td>\n",
       "      <td>70.30</td>\n",
       "      <td>D</td>\n",
       "      <td>20.7</td>\n",
       "      <td>No</td>\n",
       "      <td>Yes</td>\n",
       "      <td>Master's</td>\n",
       "      <td>Low</td>\n",
       "      <td>6</td>\n",
       "      <td>6.2</td>\n",
       "      <td>4.220243</td>\n",
       "    </tr>\n",
       "    <tr>\n",
       "      <th>3</th>\n",
       "      <td>S1003</td>\n",
       "      <td>Omar</td>\n",
       "      <td>Williams</td>\n",
       "      <td>student3@university.com</td>\n",
       "      <td>Female</td>\n",
       "      <td>24</td>\n",
       "      <td>Mathematics</td>\n",
       "      <td>95.15</td>\n",
       "      <td>47.79</td>\n",
       "      <td>80.63</td>\n",
       "      <td>...</td>\n",
       "      <td>61.63</td>\n",
       "      <td>A</td>\n",
       "      <td>24.8</td>\n",
       "      <td>Yes</td>\n",
       "      <td>Yes</td>\n",
       "      <td>High School</td>\n",
       "      <td>High</td>\n",
       "      <td>3</td>\n",
       "      <td>6.7</td>\n",
       "      <td>3.887525</td>\n",
       "    </tr>\n",
       "    <tr>\n",
       "      <th>4</th>\n",
       "      <td>S1004</td>\n",
       "      <td>John</td>\n",
       "      <td>Smith</td>\n",
       "      <td>student4@university.com</td>\n",
       "      <td>Female</td>\n",
       "      <td>23</td>\n",
       "      <td>CS</td>\n",
       "      <td>54.18</td>\n",
       "      <td>46.59</td>\n",
       "      <td>78.89</td>\n",
       "      <td>...</td>\n",
       "      <td>66.13</td>\n",
       "      <td>F</td>\n",
       "      <td>15.4</td>\n",
       "      <td>Yes</td>\n",
       "      <td>Yes</td>\n",
       "      <td>High School</td>\n",
       "      <td>High</td>\n",
       "      <td>2</td>\n",
       "      <td>7.1</td>\n",
       "      <td>3.862623</td>\n",
       "    </tr>\n",
       "  </tbody>\n",
       "</table>\n",
       "<p>5 rows × 24 columns</p>\n",
       "</div>"
      ],
      "text/plain": [
       "  Student_ID First_Name Last_Name                    Email  Gender  Age  \\\n",
       "0      S1000       Omar  Williams  student0@university.com  Female   22   \n",
       "1      S1001      Maria     Brown  student1@university.com    Male   18   \n",
       "2      S1002      Ahmed     Jones  student2@university.com    Male   24   \n",
       "3      S1003       Omar  Williams  student3@university.com  Female   24   \n",
       "4      S1004       John     Smith  student4@university.com  Female   23   \n",
       "\n",
       "    Department  Attendance (%)  Midterm_Score  Final_Score  ...  Total_Score  \\\n",
       "0  Engineering           52.29          55.03        57.82  ...        56.09   \n",
       "1  Engineering           97.27          97.23        45.80  ...        50.64   \n",
       "2     Business           57.19          67.05        93.68  ...        70.30   \n",
       "3  Mathematics           95.15          47.79        80.63  ...        61.63   \n",
       "4           CS           54.18          46.59        78.89  ...        66.13   \n",
       "\n",
       "   Grade  Study_Hours_per_Week  Extracurricular_Activities  \\\n",
       "0      F                   6.2                          No   \n",
       "1      A                  19.0                          No   \n",
       "2      D                  20.7                          No   \n",
       "3      A                  24.8                         Yes   \n",
       "4      F                  15.4                         Yes   \n",
       "\n",
       "   Internet_Access_at_Home Parent_Education_Level  Family_Income_Level  \\\n",
       "0                      Yes            High School               Medium   \n",
       "1                      Yes                    NaN               Medium   \n",
       "2                      Yes               Master's                  Low   \n",
       "3                      Yes            High School                 High   \n",
       "4                      Yes            High School                 High   \n",
       "\n",
       "  Stress_Level (1-10) Sleep_Hours_per_Night Transformed_Midterm_Score  \n",
       "0                   5                   4.7                  4.025887  \n",
       "1                   4                   9.0                  4.587312  \n",
       "2                   6                   6.2                  4.220243  \n",
       "3                   3                   6.7                  3.887525  \n",
       "4                   2                   7.1                  3.862623  \n",
       "\n",
       "[5 rows x 24 columns]"
      ]
     },
     "execution_count": 62,
     "metadata": {},
     "output_type": "execute_result"
    }
   ],
   "source": [
    "df.head()"
   ]
  },
  {
   "cell_type": "code",
   "execution_count": 63,
   "id": "32bae7ba-3d21-442a-9e01-e14d1f62fd7b",
   "metadata": {
    "tags": []
   },
   "outputs": [
    {
     "data": {
      "image/png": "[encoded data removed]",
      "text/plain": [
       "<Figure size 640x480 with 1 Axes>"
      ]
     },
     "metadata": {},
     "output_type": "display_data"
    }
   ],
   "source": [
    "#After Transformation \n",
    "\n",
    "sns.histplot(df['Transformed_Midterm_Score'] , kde = True)\n",
    "plt.title(\"After Transformation \")\n",
    "plt.show()"
   ]
  },
  {
   "cell_type": "code",
   "execution_count": 64,
   "id": "2a2db001-00cd-4f22-beca-f041e22c3f13",
   "metadata": {
    "tags": []
   },
   "outputs": [],
   "source": [
    "from scipy import stats"
   ]
  },
  {
   "cell_type": "code",
   "execution_count": 66,
   "id": "2169d745-d62d-420d-971a-2aeba2b5c466",
   "metadata": {
    "tags": []
   },
   "outputs": [],
   "source": [
    "df['BoxCox_Midterm_Score'],fitted_lambda = stats.boxcox(df['Midterm_Score'])"
   ]
  },
  {
   "cell_type": "code",
   "execution_count": 67,
   "id": "55cf54d1-0522-468d-ad57-3e50bc66af77",
   "metadata": {
    "tags": []
   },
   "outputs": [
    {
     "data": {
      "text/plain": [
       "<Axes: xlabel='BoxCox_Midterm_Score', ylabel='Count'>"
      ]
     },
     "execution_count": 67,
     "metadata": {},
     "output_type": "execute_result"
    },
    {
     "data": {
      "image/png": "[encoded data removed]",
      "text/plain": [
       "<Figure size 640x480 with 1 Axes>"
      ]
     },
     "metadata": {},
     "output_type": "display_data"
    }
   ],
   "source": [
    "sns.histplot(df['BoxCox_Midterm_Score'] , kde = True)"
   ]
  },
  {
   "cell_type": "code",
   "execution_count": 68,
   "id": "cd7e387a-c0b3-4e6e-9236-77558cfcfd41",
   "metadata": {
    "tags": []
   },
   "outputs": [],
   "source": [
    "average_age = df['Age'].mean()"
   ]
  },
  {
   "cell_type": "code",
   "execution_count": 69,
   "id": "e933c8d0-3169-48d6-ad68-67df8bd06d8a",
   "metadata": {
    "tags": []
   },
   "outputs": [
    {
     "data": {
      "text/plain": [
       "21.0484"
      ]
     },
     "execution_count": 69,
     "metadata": {},
     "output_type": "execute_result"
    }
   ],
   "source": [
    "average_age"
   ]
  },
  {
   "cell_type": "code",
   "execution_count": 70,
   "id": "a4d481ff-ce6d-467b-845c-ce29cff2967f",
   "metadata": {
    "tags": []
   },
   "outputs": [
    {
     "data": {
      "text/plain": [
       "Gender\n",
       "Male      2551\n",
       "Female    2449\n",
       "Name: count, dtype: int64"
      ]
     },
     "execution_count": 70,
     "metadata": {},
     "output_type": "execute_result"
    }
   ],
   "source": [
    "df['Gender'].value_counts()"
   ]
  },
  {
   "cell_type": "code",
   "execution_count": null,
   "id": "71ff5e6e-16eb-42ac-ab6a-b54160b71038",
   "metadata": {},
   "outputs": [],
   "source": []
  }
 ],
 "metadata": {
  "kernelspec": {
   "display_name": "Python 3 (ipykernel)",
   "language": "python",
   "name": "python3"
  },
  "language_info": {
   "codemirror_mode": {
    "name": "ipython",
    "version": 3
   },
   "file_extension": ".py",
   "mimetype": "text/x-python",
   "name": "python",
   "nbconvert_exporter": "python",
   "pygments_lexer": "ipython3",
   "version": "3.11.5"
  }
 },
 "nbformat": 4,
 "nbformat_minor": 5
}
