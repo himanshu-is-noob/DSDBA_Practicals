{
 "cells": [
  {
   "cell_type": "code",
   "execution_count": 1,
   "id": "586c9b70-09cd-46b0-a29e-cc4a8bdaafc2",
   "metadata": {
    "tags": []
   },
   "outputs": [],
   "source": [
    "import csv"
   ]
  },
  {
   "cell_type": "code",
   "execution_count": 2,
   "id": "ee766f18-3e8e-4913-a827-d402283f70b2",
   "metadata": {
    "tags": []
   },
   "outputs": [],
   "source": [
    "def read_weather_data(filename):\n",
    "    with open(filename, 'r') as file :\n",
    "        reader = csv.DictReader(file)\n",
    "        \n",
    "        temp_total = 0 \n",
    "        dew_total = 0 \n",
    "        wind_total = 0 \n",
    "        count = 0 \n",
    "        \n",
    "        for row in reader : \n",
    "            temp_total += float(row['Temp'])\n",
    "            dew_total += float(row['DewPt'])\n",
    "            wind_total += float(row['Wind'])\n",
    "            count+=1\n",
    "            \n",
    "        if count > 0 :\n",
    "            print(f\"Average Temperature : {temp_total/count}\")\n",
    "            print(f\"Average Dew Point: {dew_total/count}\")\n",
    "            print(f\"Average Wind Speed : {wind_total/count}\")\n",
    "        \n",
    "        else:\n",
    "            print(\"NO VALID DATA FOUND\")\n",
    "\n",
    "        "
   ]
  },
  {
   "cell_type": "code",
   "execution_count": 3,
   "id": "ed5fb7f1-1ce7-4380-a6f3-e7fc8b39d38e",
   "metadata": {
    "tags": []
   },
   "outputs": [
    {
     "name": "stdout",
     "output_type": "stream",
     "text": [
      "Average Temperature : 30.0\n",
      "Average Dew Point: 21.0\n",
      "Average Wind Speed : 12.0\n"
     ]
    }
   ],
   "source": [
    "read_weather_data = read_weather_data(\"sample_weather.csv\")"
   ]
  }
 ],
 "metadata": {
  "kernelspec": {
   "display_name": "Python 3 (ipykernel)",
   "language": "python",
   "name": "python3"
  },
  "language_info": {
   "codemirror_mode": {
    "name": "ipython",
    "version": 3
   },
   "file_extension": ".py",
   "mimetype": "text/x-python",
   "name": "python",
   "nbconvert_exporter": "python",
   "pygments_lexer": "ipython3",
   "version": "3.11.5"
  }
 },
 "nbformat": 4,
 "nbformat_minor": 5
}
