{
 "cells": [
  {
   "cell_type": "code",
   "execution_count": 1,
   "id": "65913bb8-b0d9-47c9-936c-fa36fc8792b6",
   "metadata": {
    "tags": []
   },
   "outputs": [],
   "source": [
    "import numpy as np \n",
    "import pandas as pd \n",
    "import seaborn as sns \n",
    "import matplotlib.pyplot as plt "
   ]
  },
  {
   "cell_type": "code",
   "execution_count": 2,
   "id": "f9176add-46d1-45a5-96c5-dbc11b2adf43",
   "metadata": {
    "tags": []
   },
   "outputs": [],
   "source": [
    "import nltk"
   ]
  },
  {
   "cell_type": "code",
   "execution_count": 3,
   "id": "d55c0c2c-5450-4e01-b103-9c3e6c7dd609",
   "metadata": {
    "tags": []
   },
   "outputs": [],
   "source": [
    "from nltk.tokenize import word_tokenize \n",
    "from nltk.corpus import stopwords \n",
    "from nltk import pos_tag\n",
    "from nltk.stem import PorterStemmer , WordNetLemmatizer"
   ]
  },
  {
   "cell_type": "code",
   "execution_count": 5,
   "id": "6d63c905-cb32-4fc1-9083-417b168cbdfb",
   "metadata": {
    "tags": []
   },
   "outputs": [
    {
     "name": "stderr",
     "output_type": "stream",
     "text": [
      "[nltk_data] Downloading package stopwords to\n",
      "[nltk_data]     C:\\Users\\himan\\AppData\\Roaming\\nltk_data...\n",
      "[nltk_data]   Package stopwords is already up-to-date!\n",
      "[nltk_data] Error loading punkit: Package 'punkit' not found in index\n",
      "[nltk_data] Downloading package wordnet to\n",
      "[nltk_data]     C:\\Users\\himan\\AppData\\Roaming\\nltk_data...\n",
      "[nltk_data]   Package wordnet is already up-to-date!\n",
      "[nltk_data] Downloading package averaged_perceptron_tagger to\n",
      "[nltk_data]     C:\\Users\\himan\\AppData\\Roaming\\nltk_data...\n",
      "[nltk_data]   Package averaged_perceptron_tagger is already up-to-\n",
      "[nltk_data]       date!\n"
     ]
    },
    {
     "data": {
      "text/plain": [
       "True"
      ]
     },
     "execution_count": 5,
     "metadata": {},
     "output_type": "execute_result"
    }
   ],
   "source": [
    "nltk.download('stopwords')\n",
    "nltk.download('punkit')\n",
    "nltk.download('wordnet')\n",
    "nltk.download('averaged_perceptron_tagger')"
   ]
  },
  {
   "cell_type": "code",
   "execution_count": 6,
   "id": "80881b3e-3354-4faf-b150-be729c570549",
   "metadata": {
    "tags": []
   },
   "outputs": [],
   "source": [
    "#1 . Tokenize words "
   ]
  },
  {
   "cell_type": "code",
   "execution_count": 7,
   "id": "db83dd1b-5403-4482-bf79-0eaafd9144f9",
   "metadata": {
    "tags": []
   },
   "outputs": [],
   "source": [
    "para = \"Text analysis, a significant application of NLP, aims to extract meaningful insights from large volumes of unstructured text data. In this blog, we will explore key NLP techniques used for text analysis, along with Python examples showcasing their implementations and outputs.\""
   ]
  },
  {
   "cell_type": "code",
   "execution_count": 9,
   "id": "352587e8-4e05-4099-a9fb-6a4066c25f7a",
   "metadata": {
    "tags": []
   },
   "outputs": [],
   "source": [
    "from nltk.tokenize import word_tokenize , sent_tokenize"
   ]
  },
  {
   "cell_type": "code",
   "execution_count": 10,
   "id": "c7953ddd-1b9c-4984-91ad-06161dd11725",
   "metadata": {
    "tags": []
   },
   "outputs": [
    {
     "data": {
      "text/plain": [
       "['Text analysis, a significant application of NLP, aims to extract meaningful insights from large volumes of unstructured text data.',\n",
       " 'In this blog, we will explore key NLP techniques used for text analysis, along with Python examples showcasing their implementations and outputs.']"
      ]
     },
     "execution_count": 10,
     "metadata": {},
     "output_type": "execute_result"
    }
   ],
   "source": [
    "tokens = sent_tokenize(para)\n",
    "tokens"
   ]
  },
  {
   "cell_type": "code",
   "execution_count": 11,
   "id": "540b099f-6458-41ca-a212-bd6e17e3c53a",
   "metadata": {
    "tags": []
   },
   "outputs": [
    {
     "data": {
      "text/plain": [
       "['Text',\n",
       " 'analysis',\n",
       " ',',\n",
       " 'a',\n",
       " 'significant',\n",
       " 'application',\n",
       " 'of',\n",
       " 'NLP',\n",
       " ',',\n",
       " 'aims',\n",
       " 'to',\n",
       " 'extract',\n",
       " 'meaningful',\n",
       " 'insights',\n",
       " 'from',\n",
       " 'large',\n",
       " 'volumes',\n",
       " 'of',\n",
       " 'unstructured',\n",
       " 'text',\n",
       " 'data',\n",
       " '.',\n",
       " 'In',\n",
       " 'this',\n",
       " 'blog',\n",
       " ',',\n",
       " 'we',\n",
       " 'will',\n",
       " 'explore',\n",
       " 'key',\n",
       " 'NLP',\n",
       " 'techniques',\n",
       " 'used',\n",
       " 'for',\n",
       " 'text',\n",
       " 'analysis',\n",
       " ',',\n",
       " 'along',\n",
       " 'with',\n",
       " 'Python',\n",
       " 'examples',\n",
       " 'showcasing',\n",
       " 'their',\n",
       " 'implementations',\n",
       " 'and',\n",
       " 'outputs',\n",
       " '.']"
      ]
     },
     "execution_count": 11,
     "metadata": {},
     "output_type": "execute_result"
    }
   ],
   "source": [
    "words = word_tokenize(para)\n",
    "words"
   ]
  },
  {
   "cell_type": "code",
   "execution_count": 12,
   "id": "4d8eb12b-547c-4aee-8604-195afb43fdce",
   "metadata": {
    "tags": []
   },
   "outputs": [],
   "source": [
    "swords = stopwords.words('english')"
   ]
  },
  {
   "cell_type": "code",
   "execution_count": 13,
   "id": "f1ae11ab-1780-49f4-a5be-6f324703bf8c",
   "metadata": {
    "tags": []
   },
   "outputs": [
    {
     "data": {
      "text/plain": [
       "['a',\n",
       " 'about',\n",
       " 'above',\n",
       " 'after',\n",
       " 'again',\n",
       " 'against',\n",
       " 'ain',\n",
       " 'all',\n",
       " 'am',\n",
       " 'an',\n",
       " 'and',\n",
       " 'any',\n",
       " 'are',\n",
       " 'aren',\n",
       " \"aren't\",\n",
       " 'as',\n",
       " 'at',\n",
       " 'be',\n",
       " 'because',\n",
       " 'been',\n",
       " 'before',\n",
       " 'being',\n",
       " 'below',\n",
       " 'between',\n",
       " 'both',\n",
       " 'but',\n",
       " 'by',\n",
       " 'can',\n",
       " 'couldn',\n",
       " \"couldn't\",\n",
       " 'd',\n",
       " 'did',\n",
       " 'didn',\n",
       " \"didn't\",\n",
       " 'do',\n",
       " 'does',\n",
       " 'doesn',\n",
       " \"doesn't\",\n",
       " 'doing',\n",
       " 'don',\n",
       " \"don't\",\n",
       " 'down',\n",
       " 'during',\n",
       " 'each',\n",
       " 'few',\n",
       " 'for',\n",
       " 'from',\n",
       " 'further',\n",
       " 'had',\n",
       " 'hadn',\n",
       " \"hadn't\",\n",
       " 'has',\n",
       " 'hasn',\n",
       " \"hasn't\",\n",
       " 'have',\n",
       " 'haven',\n",
       " \"haven't\",\n",
       " 'having',\n",
       " 'he',\n",
       " \"he'd\",\n",
       " \"he'll\",\n",
       " 'her',\n",
       " 'here',\n",
       " 'hers',\n",
       " 'herself',\n",
       " \"he's\",\n",
       " 'him',\n",
       " 'himself',\n",
       " 'his',\n",
       " 'how',\n",
       " 'i',\n",
       " \"i'd\",\n",
       " 'if',\n",
       " \"i'll\",\n",
       " \"i'm\",\n",
       " 'in',\n",
       " 'into',\n",
       " 'is',\n",
       " 'isn',\n",
       " \"isn't\",\n",
       " 'it',\n",
       " \"it'd\",\n",
       " \"it'll\",\n",
       " \"it's\",\n",
       " 'its',\n",
       " 'itself',\n",
       " \"i've\",\n",
       " 'just',\n",
       " 'll',\n",
       " 'm',\n",
       " 'ma',\n",
       " 'me',\n",
       " 'mightn',\n",
       " \"mightn't\",\n",
       " 'more',\n",
       " 'most',\n",
       " 'mustn',\n",
       " \"mustn't\",\n",
       " 'my',\n",
       " 'myself',\n",
       " 'needn',\n",
       " \"needn't\",\n",
       " 'no',\n",
       " 'nor',\n",
       " 'not',\n",
       " 'now',\n",
       " 'o',\n",
       " 'of',\n",
       " 'off',\n",
       " 'on',\n",
       " 'once',\n",
       " 'only',\n",
       " 'or',\n",
       " 'other',\n",
       " 'our',\n",
       " 'ours',\n",
       " 'ourselves',\n",
       " 'out',\n",
       " 'over',\n",
       " 'own',\n",
       " 're',\n",
       " 's',\n",
       " 'same',\n",
       " 'shan',\n",
       " \"shan't\",\n",
       " 'she',\n",
       " \"she'd\",\n",
       " \"she'll\",\n",
       " \"she's\",\n",
       " 'should',\n",
       " 'shouldn',\n",
       " \"shouldn't\",\n",
       " \"should've\",\n",
       " 'so',\n",
       " 'some',\n",
       " 'such',\n",
       " 't',\n",
       " 'than',\n",
       " 'that',\n",
       " \"that'll\",\n",
       " 'the',\n",
       " 'their',\n",
       " 'theirs',\n",
       " 'them',\n",
       " 'themselves',\n",
       " 'then',\n",
       " 'there',\n",
       " 'these',\n",
       " 'they',\n",
       " \"they'd\",\n",
       " \"they'll\",\n",
       " \"they're\",\n",
       " \"they've\",\n",
       " 'this',\n",
       " 'those',\n",
       " 'through',\n",
       " 'to',\n",
       " 'too',\n",
       " 'under',\n",
       " 'until',\n",
       " 'up',\n",
       " 've',\n",
       " 'very',\n",
       " 'was',\n",
       " 'wasn',\n",
       " \"wasn't\",\n",
       " 'we',\n",
       " \"we'd\",\n",
       " \"we'll\",\n",
       " \"we're\",\n",
       " 'were',\n",
       " 'weren',\n",
       " \"weren't\",\n",
       " \"we've\",\n",
       " 'what',\n",
       " 'when',\n",
       " 'where',\n",
       " 'which',\n",
       " 'while',\n",
       " 'who',\n",
       " 'whom',\n",
       " 'why',\n",
       " 'will',\n",
       " 'with',\n",
       " 'won',\n",
       " \"won't\",\n",
       " 'wouldn',\n",
       " \"wouldn't\",\n",
       " 'y',\n",
       " 'you',\n",
       " \"you'd\",\n",
       " \"you'll\",\n",
       " 'your',\n",
       " \"you're\",\n",
       " 'yours',\n",
       " 'yourself',\n",
       " 'yourselves',\n",
       " \"you've\"]"
      ]
     },
     "execution_count": 13,
     "metadata": {},
     "output_type": "execute_result"
    }
   ],
   "source": [
    "swords"
   ]
  },
  {
   "cell_type": "code",
   "execution_count": 14,
   "id": "23e56e13-3f92-4244-816e-e2d827e2676b",
   "metadata": {
    "tags": []
   },
   "outputs": [],
   "source": [
    "x = [word for word in words if word.lower() not in swords]"
   ]
  },
  {
   "cell_type": "code",
   "execution_count": 15,
   "id": "c1202b28-ad0d-4246-8648-e77bd32c8f58",
   "metadata": {
    "tags": []
   },
   "outputs": [
    {
     "data": {
      "text/plain": [
       "['Text',\n",
       " 'analysis',\n",
       " ',',\n",
       " 'significant',\n",
       " 'application',\n",
       " 'NLP',\n",
       " ',',\n",
       " 'aims',\n",
       " 'extract',\n",
       " 'meaningful',\n",
       " 'insights',\n",
       " 'large',\n",
       " 'volumes',\n",
       " 'unstructured',\n",
       " 'text',\n",
       " 'data',\n",
       " '.',\n",
       " 'blog',\n",
       " ',',\n",
       " 'explore',\n",
       " 'key',\n",
       " 'NLP',\n",
       " 'techniques',\n",
       " 'used',\n",
       " 'text',\n",
       " 'analysis',\n",
       " ',',\n",
       " 'along',\n",
       " 'Python',\n",
       " 'examples',\n",
       " 'showcasing',\n",
       " 'implementations',\n",
       " 'outputs',\n",
       " '.']"
      ]
     },
     "execution_count": 15,
     "metadata": {},
     "output_type": "execute_result"
    }
   ],
   "source": [
    "x"
   ]
  },
  {
   "cell_type": "code",
   "execution_count": 16,
   "id": "8416f163-b421-42b3-836b-a2530b118015",
   "metadata": {
    "tags": []
   },
   "outputs": [],
   "source": [
    "import string "
   ]
  },
  {
   "cell_type": "code",
   "execution_count": 17,
   "id": "f56f35b4-6edc-4593-a1a3-a2159dabd251",
   "metadata": {
    "tags": []
   },
   "outputs": [
    {
     "data": {
      "text/plain": [
       "'!\"#$%&\\'()*+,-./:;<=>?@[\\\\]^_`{|}~'"
      ]
     },
     "execution_count": 17,
     "metadata": {},
     "output_type": "execute_result"
    }
   ],
   "source": [
    "string.punctuation"
   ]
  },
  {
   "cell_type": "code",
   "execution_count": 20,
   "id": "70c07e69-379d-48c9-81b9-cef1c35c8772",
   "metadata": {
    "tags": []
   },
   "outputs": [
    {
     "data": {
      "text/plain": [
       "['Text',\n",
       " 'analysis',\n",
       " 'significant',\n",
       " 'application',\n",
       " 'NLP',\n",
       " 'aims',\n",
       " 'extract',\n",
       " 'meaningful',\n",
       " 'insights',\n",
       " 'large',\n",
       " 'volumes',\n",
       " 'unstructured',\n",
       " 'text',\n",
       " 'data',\n",
       " 'blog',\n",
       " 'explore',\n",
       " 'key',\n",
       " 'NLP',\n",
       " 'techniques',\n",
       " 'used',\n",
       " 'text',\n",
       " 'analysis',\n",
       " 'along',\n",
       " 'Python',\n",
       " 'examples',\n",
       " 'showcasing',\n",
       " 'implementations',\n",
       " 'outputs']"
      ]
     },
     "execution_count": 20,
     "metadata": {},
     "output_type": "execute_result"
    }
   ],
   "source": [
    "y = [ word for word in x if word not in string.punctuation]\n",
    "y"
   ]
  },
  {
   "cell_type": "code",
   "execution_count": 21,
   "id": "3dce5871-392e-4dff-99af-9f6623083951",
   "metadata": {
    "tags": []
   },
   "outputs": [],
   "source": [
    "#3. Stem "
   ]
  },
  {
   "cell_type": "code",
   "execution_count": 22,
   "id": "cc54b10a-9edc-4947-8693-73532f10e0de",
   "metadata": {
    "tags": []
   },
   "outputs": [],
   "source": [
    "ps = PorterStemmer()"
   ]
  },
  {
   "cell_type": "code",
   "execution_count": 23,
   "id": "aa14278d-dc50-4f43-a712-4b9b19988cee",
   "metadata": {
    "tags": []
   },
   "outputs": [
    {
     "name": "stderr",
     "output_type": "stream",
     "text": [
      "[nltk_data] Downloading package omw-1.4 to\n",
      "[nltk_data]     C:\\Users\\himan\\AppData\\Roaming\\nltk_data...\n",
      "[nltk_data]   Package omw-1.4 is already up-to-date!\n"
     ]
    },
    {
     "data": {
      "text/plain": [
       "True"
      ]
     },
     "execution_count": 23,
     "metadata": {},
     "output_type": "execute_result"
    }
   ],
   "source": [
    "nltk.download('omw-1.4')"
   ]
  },
  {
   "cell_type": "code",
   "execution_count": 25,
   "id": "6e67efea-08de-4168-a89d-138de4baa6d3",
   "metadata": {
    "tags": []
   },
   "outputs": [],
   "source": [
    "z = [ps.stem(word) for word in y]"
   ]
  },
  {
   "cell_type": "code",
   "execution_count": 26,
   "id": "ad885721-5d30-4418-ad7c-d0c14fc1543e",
   "metadata": {
    "tags": []
   },
   "outputs": [
    {
     "data": {
      "text/plain": [
       "['text',\n",
       " 'analysi',\n",
       " 'signific',\n",
       " 'applic',\n",
       " 'nlp',\n",
       " 'aim',\n",
       " 'extract',\n",
       " 'meaning',\n",
       " 'insight',\n",
       " 'larg',\n",
       " 'volum',\n",
       " 'unstructur',\n",
       " 'text',\n",
       " 'data',\n",
       " 'blog',\n",
       " 'explor',\n",
       " 'key',\n",
       " 'nlp',\n",
       " 'techniqu',\n",
       " 'use',\n",
       " 'text',\n",
       " 'analysi',\n",
       " 'along',\n",
       " 'python',\n",
       " 'exampl',\n",
       " 'showcas',\n",
       " 'implement',\n",
       " 'output']"
      ]
     },
     "execution_count": 26,
     "metadata": {},
     "output_type": "execute_result"
    }
   ],
   "source": [
    "z"
   ]
  },
  {
   "cell_type": "code",
   "execution_count": 27,
   "id": "7d22deb6-370b-4d03-9cad-9577ae82c464",
   "metadata": {
    "tags": []
   },
   "outputs": [],
   "source": [
    "#Now we will need to Lemmatize it "
   ]
  },
  {
   "cell_type": "code",
   "execution_count": 28,
   "id": "af5d6df1-8c92-424f-be0a-19f59827dddb",
   "metadata": {
    "tags": []
   },
   "outputs": [],
   "source": [
    "from nltk.stem import WordNetLemmatizer"
   ]
  },
  {
   "cell_type": "code",
   "execution_count": 29,
   "id": "a9acf3a2-c57f-4a88-8ba6-30a73bf98096",
   "metadata": {
    "tags": []
   },
   "outputs": [],
   "source": [
    "wnl = WordNetLemmatizer()"
   ]
  },
  {
   "cell_type": "code",
   "execution_count": 32,
   "id": "164fbd37-b3e3-458c-a2fb-c87d6d2d6dce",
   "metadata": {
    "tags": []
   },
   "outputs": [],
   "source": [
    "lemma = [wnl.lemmatize(word , pos = 'v') for word in y]"
   ]
  },
  {
   "cell_type": "code",
   "execution_count": 33,
   "id": "c651a6e3-f2a2-4c60-b69b-04b76fe332f5",
   "metadata": {
    "tags": []
   },
   "outputs": [
    {
     "data": {
      "text/plain": [
       "['Text',\n",
       " 'analysis',\n",
       " 'significant',\n",
       " 'application',\n",
       " 'NLP',\n",
       " 'aim',\n",
       " 'extract',\n",
       " 'meaningful',\n",
       " 'insights',\n",
       " 'large',\n",
       " 'volumes',\n",
       " 'unstructured',\n",
       " 'text',\n",
       " 'data',\n",
       " 'blog',\n",
       " 'explore',\n",
       " 'key',\n",
       " 'NLP',\n",
       " 'techniques',\n",
       " 'use',\n",
       " 'text',\n",
       " 'analysis',\n",
       " 'along',\n",
       " 'Python',\n",
       " 'examples',\n",
       " 'showcasing',\n",
       " 'implementations',\n",
       " 'output']"
      ]
     },
     "execution_count": 33,
     "metadata": {},
     "output_type": "execute_result"
    }
   ],
   "source": [
    "lemma"
   ]
  },
  {
   "cell_type": "code",
   "execution_count": 34,
   "id": "e3f56727-3281-4725-9fae-9f6d5e35dc08",
   "metadata": {
    "tags": []
   },
   "outputs": [
    {
     "data": {
      "text/plain": [
       "[('Text', 'JJ'),\n",
       " ('analysis', 'NN'),\n",
       " ('significant', 'JJ'),\n",
       " ('application', 'NN'),\n",
       " ('NLP', 'NNP'),\n",
       " ('aim', 'NN'),\n",
       " ('extract', 'NN'),\n",
       " ('meaningful', 'JJ'),\n",
       " ('insights', 'NNS'),\n",
       " ('large', 'JJ'),\n",
       " ('volumes', 'NNS'),\n",
       " ('unstructured', 'JJ'),\n",
       " ('text', 'NN'),\n",
       " ('data', 'NNS'),\n",
       " ('blog', 'NN'),\n",
       " ('explore', 'IN'),\n",
       " ('key', 'JJ'),\n",
       " ('NLP', 'NNP'),\n",
       " ('techniques', 'NNS'),\n",
       " ('use', 'VBP'),\n",
       " ('text', 'JJ'),\n",
       " ('analysis', 'NN'),\n",
       " ('along', 'IN'),\n",
       " ('Python', 'NNP'),\n",
       " ('examples', 'VBZ'),\n",
       " ('showcasing', 'VBG'),\n",
       " ('implementations', 'NNS'),\n",
       " ('output', 'NN')]"
      ]
     },
     "execution_count": 34,
     "metadata": {},
     "output_type": "execute_result"
    }
   ],
   "source": [
    "pos_tag(lemma)"
   ]
  },
  {
   "cell_type": "code",
   "execution_count": 36,
   "id": "c5e4b36a-a75e-4b7f-b147-b1b721f9fc00",
   "metadata": {
    "tags": []
   },
   "outputs": [],
   "source": [
    "from sklearn.feature_extraction.text import TfidfVectorizer"
   ]
  },
  {
   "cell_type": "code",
   "execution_count": 37,
   "id": "79dd3b29-d11f-4b89-9030-a1ba1dbacfc5",
   "metadata": {
    "tags": []
   },
   "outputs": [],
   "source": [
    "tfidf = TfidfVectorizer()"
   ]
  },
  {
   "cell_type": "code",
   "execution_count": 38,
   "id": "c84dbffe-0c0d-432c-b210-73c512c13d02",
   "metadata": {
    "tags": []
   },
   "outputs": [],
   "source": [
    "v = tfidf.fit_transform(lemma)"
   ]
  },
  {
   "cell_type": "code",
   "execution_count": 39,
   "id": "1539ada2-38af-4e4e-a8cc-c67bb382ff04",
   "metadata": {
    "tags": []
   },
   "outputs": [
    {
     "data": {
      "text/plain": [
       "<28x24 sparse matrix of type '<class 'numpy.float64'>'\n",
       "\twith 28 stored elements in Compressed Sparse Row format>"
      ]
     },
     "execution_count": 39,
     "metadata": {},
     "output_type": "execute_result"
    }
   ],
   "source": [
    "v"
   ]
  },
  {
   "cell_type": "code",
   "execution_count": 40,
   "id": "ffeb59d9-4dfc-4edc-a405-333244dd97f0",
   "metadata": {
    "tags": []
   },
   "outputs": [
    {
     "data": {
      "text/plain": [
       "(28, 24)"
      ]
     },
     "execution_count": 40,
     "metadata": {},
     "output_type": "execute_result"
    }
   ],
   "source": [
    "v.shape"
   ]
  },
  {
   "cell_type": "code",
   "execution_count": 42,
   "id": "cf8ecb9f-828d-429f-a804-db6e61314502",
   "metadata": {
    "tags": []
   },
   "outputs": [
    {
     "data": {
      "text/plain": [
       "array(['aim', 'along', 'analysis', 'application', 'blog', 'data',\n",
       "       'examples', 'explore', 'extract', 'implementations', 'insights',\n",
       "       'key', 'large', 'meaningful', 'nlp', 'output', 'python',\n",
       "       'showcasing', 'significant', 'techniques', 'text', 'unstructured',\n",
       "       'use', 'volumes'], dtype=object)"
      ]
     },
     "execution_count": 42,
     "metadata": {},
     "output_type": "execute_result"
    }
   ],
   "source": [
    "tfidf.get_feature_names_out()"
   ]
  },
  {
   "cell_type": "code",
   "execution_count": 43,
   "id": "69112a0d-538c-4207-9729-252e0c4c3859",
   "metadata": {
    "tags": []
   },
   "outputs": [
    {
     "data": {
      "text/plain": [
       "array([[0., 0., 0., 0., 0., 0., 0., 0., 0., 0., 0., 0., 0., 0., 0., 0.,\n",
       "        0., 0., 0., 0., 1., 0., 0., 0.],\n",
       "       [0., 0., 1., 0., 0., 0., 0., 0., 0., 0., 0., 0., 0., 0., 0., 0.,\n",
       "        0., 0., 0., 0., 0., 0., 0., 0.],\n",
       "       [0., 0., 0., 0., 0., 0., 0., 0., 0., 0., 0., 0., 0., 0., 0., 0.,\n",
       "        0., 0., 1., 0., 0., 0., 0., 0.],\n",
       "       [0., 0., 0., 1., 0., 0., 0., 0., 0., 0., 0., 0., 0., 0., 0., 0.,\n",
       "        0., 0., 0., 0., 0., 0., 0., 0.],\n",
       "       [0., 0., 0., 0., 0., 0., 0., 0., 0., 0., 0., 0., 0., 0., 1., 0.,\n",
       "        0., 0., 0., 0., 0., 0., 0., 0.],\n",
       "       [1., 0., 0., 0., 0., 0., 0., 0., 0., 0., 0., 0., 0., 0., 0., 0.,\n",
       "        0., 0., 0., 0., 0., 0., 0., 0.],\n",
       "       [0., 0., 0., 0., 0., 0., 0., 0., 1., 0., 0., 0., 0., 0., 0., 0.,\n",
       "        0., 0., 0., 0., 0., 0., 0., 0.],\n",
       "       [0., 0., 0., 0., 0., 0., 0., 0., 0., 0., 0., 0., 0., 1., 0., 0.,\n",
       "        0., 0., 0., 0., 0., 0., 0., 0.],\n",
       "       [0., 0., 0., 0., 0., 0., 0., 0., 0., 0., 1., 0., 0., 0., 0., 0.,\n",
       "        0., 0., 0., 0., 0., 0., 0., 0.],\n",
       "       [0., 0., 0., 0., 0., 0., 0., 0., 0., 0., 0., 0., 1., 0., 0., 0.,\n",
       "        0., 0., 0., 0., 0., 0., 0., 0.],\n",
       "       [0., 0., 0., 0., 0., 0., 0., 0., 0., 0., 0., 0., 0., 0., 0., 0.,\n",
       "        0., 0., 0., 0., 0., 0., 0., 1.],\n",
       "       [0., 0., 0., 0., 0., 0., 0., 0., 0., 0., 0., 0., 0., 0., 0., 0.,\n",
       "        0., 0., 0., 0., 0., 1., 0., 0.],\n",
       "       [0., 0., 0., 0., 0., 0., 0., 0., 0., 0., 0., 0., 0., 0., 0., 0.,\n",
       "        0., 0., 0., 0., 1., 0., 0., 0.],\n",
       "       [0., 0., 0., 0., 0., 1., 0., 0., 0., 0., 0., 0., 0., 0., 0., 0.,\n",
       "        0., 0., 0., 0., 0., 0., 0., 0.],\n",
       "       [0., 0., 0., 0., 1., 0., 0., 0., 0., 0., 0., 0., 0., 0., 0., 0.,\n",
       "        0., 0., 0., 0., 0., 0., 0., 0.],\n",
       "       [0., 0., 0., 0., 0., 0., 0., 1., 0., 0., 0., 0., 0., 0., 0., 0.,\n",
       "        0., 0., 0., 0., 0., 0., 0., 0.],\n",
       "       [0., 0., 0., 0., 0., 0., 0., 0., 0., 0., 0., 1., 0., 0., 0., 0.,\n",
       "        0., 0., 0., 0., 0., 0., 0., 0.],\n",
       "       [0., 0., 0., 0., 0., 0., 0., 0., 0., 0., 0., 0., 0., 0., 1., 0.,\n",
       "        0., 0., 0., 0., 0., 0., 0., 0.],\n",
       "       [0., 0., 0., 0., 0., 0., 0., 0., 0., 0., 0., 0., 0., 0., 0., 0.,\n",
       "        0., 0., 0., 1., 0., 0., 0., 0.],\n",
       "       [0., 0., 0., 0., 0., 0., 0., 0., 0., 0., 0., 0., 0., 0., 0., 0.,\n",
       "        0., 0., 0., 0., 0., 0., 1., 0.],\n",
       "       [0., 0., 0., 0., 0., 0., 0., 0., 0., 0., 0., 0., 0., 0., 0., 0.,\n",
       "        0., 0., 0., 0., 1., 0., 0., 0.],\n",
       "       [0., 0., 1., 0., 0., 0., 0., 0., 0., 0., 0., 0., 0., 0., 0., 0.,\n",
       "        0., 0., 0., 0., 0., 0., 0., 0.],\n",
       "       [0., 1., 0., 0., 0., 0., 0., 0., 0., 0., 0., 0., 0., 0., 0., 0.,\n",
       "        0., 0., 0., 0., 0., 0., 0., 0.],\n",
       "       [0., 0., 0., 0., 0., 0., 0., 0., 0., 0., 0., 0., 0., 0., 0., 0.,\n",
       "        1., 0., 0., 0., 0., 0., 0., 0.],\n",
       "       [0., 0., 0., 0., 0., 0., 1., 0., 0., 0., 0., 0., 0., 0., 0., 0.,\n",
       "        0., 0., 0., 0., 0., 0., 0., 0.],\n",
       "       [0., 0., 0., 0., 0., 0., 0., 0., 0., 0., 0., 0., 0., 0., 0., 0.,\n",
       "        0., 1., 0., 0., 0., 0., 0., 0.],\n",
       "       [0., 0., 0., 0., 0., 0., 0., 0., 0., 1., 0., 0., 0., 0., 0., 0.,\n",
       "        0., 0., 0., 0., 0., 0., 0., 0.],\n",
       "       [0., 0., 0., 0., 0., 0., 0., 0., 0., 0., 0., 0., 0., 0., 0., 1.,\n",
       "        0., 0., 0., 0., 0., 0., 0., 0.]])"
      ]
     },
     "execution_count": 43,
     "metadata": {},
     "output_type": "execute_result"
    }
   ],
   "source": [
    "v.toarray()"
   ]
  }
 ],
 "metadata": {
  "kernelspec": {
   "display_name": "Python 3 (ipykernel)",
   "language": "python",
   "name": "python3"
  },
  "language_info": {
   "codemirror_mode": {
    "name": "ipython",
    "version": 3
   },
   "file_extension": ".py",
   "mimetype": "text/x-python",
   "name": "python",
   "nbconvert_exporter": "python",
   "pygments_lexer": "ipython3",
   "version": "3.11.5"
  }
 },
 "nbformat": 4,
 "nbformat_minor": 5
}
